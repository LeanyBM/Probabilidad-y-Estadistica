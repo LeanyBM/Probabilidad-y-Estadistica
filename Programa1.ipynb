{
  "nbformat": 4,
  "nbformat_minor": 0,
  "metadata": {
    "colab": {
      "provenance": [],
      "authorship_tag": "ABX9TyMcpUupfhu+unGVuaj64Gc5",
      "include_colab_link": true
    },
    "kernelspec": {
      "name": "python3",
      "display_name": "Python 3"
    },
    "language_info": {
      "name": "python"
    }
  },
  "cells": [
    {
      "cell_type": "markdown",
      "metadata": {
        "id": "view-in-github",
        "colab_type": "text"
      },
      "source": [
        "<a href=\"https://colab.research.google.com/github/LeanyBM/Probabilidad-y-Estadistica/blob/main/Programa1.ipynb\" target=\"_parent\"><img src=\"https://colab.research.google.com/assets/colab-badge.svg\" alt=\"Open In Colab\"/></a>"
      ]
    },
    {
      "cell_type": "markdown",
      "source": [
        "# Probabilidad y estadistica\n",
        "\n",
        "##Unidad 1 \"encabezado de nivel 2 h2 \"\n",
        "\n",
        "### Grupo: **2Z**\n",
        "\n",
        "###Practica 0. Introducción a Python\n",
        "\n",
        "Alumno: Leany Blanco Muñoz\n",
        "\n",
        "Docente: Dr. José Gabriel Rivas\n",
        "\n",
        "![download.png](data:image/png;base64,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)"
      ],
      "metadata": {
        "id": "MvsCZ1MZ6Za1"
      }
    },
    {
      "cell_type": "code",
      "execution_count": null,
      "metadata": {
        "colab": {
          "base_uri": "https://localhost:8080/"
        },
        "id": "nswmMufSyS23",
        "outputId": "b6a5cf52-666c-4e90-8631-fc217497e376"
      },
      "outputs": [
        {
          "output_type": "stream",
          "name": "stdout",
          "text": [
            "10\n"
          ]
        }
      ],
      "source": [
        "x=10\n",
        "print(x)"
      ]
    },
    {
      "cell_type": "code",
      "source": [
        "print(type(x))"
      ],
      "metadata": {
        "colab": {
          "base_uri": "https://localhost:8080/"
        },
        "id": "yy1TVNAgzLWv",
        "outputId": "b8032c5f-0e2b-46cf-d930-065b3432f7ac"
      },
      "execution_count": null,
      "outputs": [
        {
          "output_type": "stream",
          "name": "stdout",
          "text": [
            "<class 'str'>\n"
          ]
        }
      ]
    },
    {
      "cell_type": "code",
      "source": [
        "x=\"Hola Hola Como Estan\"\n",
        "print(x)"
      ],
      "metadata": {
        "colab": {
          "base_uri": "https://localhost:8080/"
        },
        "id": "TPfZq07Bzc8q",
        "outputId": "270ae2c3-057a-4ac1-b463-e806524ca56f"
      },
      "execution_count": null,
      "outputs": [
        {
          "output_type": "stream",
          "name": "stdout",
          "text": [
            "Hola Hola Como Estan\n"
          ]
        }
      ]
    },
    {
      "cell_type": "code",
      "source": [
        "a=12\n",
        "b=25\n",
        "if a>b:\n",
        "    print(a,\"a es mayor que b\",b)\n",
        "else:\n",
        "    print(b,\"b es mayor que a\",a)\n"
      ],
      "metadata": {
        "colab": {
          "base_uri": "https://localhost:8080/"
        },
        "id": "QWslaPbx3jje",
        "outputId": "ad829c11-730b-4c8c-cdd7-27c4d606c0bb"
      },
      "execution_count": null,
      "outputs": [
        {
          "output_type": "stream",
          "name": "stdout",
          "text": [
            "25 b es mayor que a 12\n"
          ]
        }
      ]
    },
    {
      "cell_type": "markdown",
      "source": [],
      "metadata": {
        "id": "4evUmiTX6UsR"
      }
    },
    {
      "cell_type": "code",
      "source": [
        "#Alt enter para nuevo codigo\n",
        "#For la variable de control y el rango entre parentesis\n",
        "#no se ejecuta el numero 10 solo hasta 9\n",
        "for i in range(10):\n",
        "    print(i)\n",
        "    print(\"Hola\",i)\n",
        "    #Es importante el espacidado\n",
        "#Comentario con gato\n",
        "print(\"fuera del for\")"
      ],
      "metadata": {
        "colab": {
          "base_uri": "https://localhost:8080/"
        },
        "id": "z_X0DLRL4oQ5",
        "outputId": "74106cda-9a4f-46d8-c601-bc8aba8cb5be"
      },
      "execution_count": null,
      "outputs": [
        {
          "output_type": "stream",
          "name": "stdout",
          "text": [
            "0\n",
            "Hola 0\n",
            "1\n",
            "Hola 1\n",
            "2\n",
            "Hola 2\n",
            "3\n",
            "Hola 3\n",
            "4\n",
            "Hola 4\n",
            "5\n",
            "Hola 5\n",
            "6\n",
            "Hola 6\n",
            "7\n",
            "Hola 7\n",
            "8\n",
            "Hola 8\n",
            "9\n",
            "Hola 9\n"
          ]
        }
      ]
    }
  ]
}