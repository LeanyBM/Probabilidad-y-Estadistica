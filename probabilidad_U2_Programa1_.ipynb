{
  "nbformat": 4,
  "nbformat_minor": 0,
  "metadata": {
    "colab": {
      "provenance": [],
      "authorship_tag": "ABX9TyPiLrF/M1184vsoRdFhMo98",
      "include_colab_link": true
    },
    "kernelspec": {
      "name": "python3",
      "display_name": "Python 3"
    },
    "language_info": {
      "name": "python"
    }
  },
  "cells": [
    {
      "cell_type": "markdown",
      "metadata": {
        "id": "view-in-github",
        "colab_type": "text"
      },
      "source": [
        "<a href=\"https://colab.research.google.com/github/LeanyBM/Probabilidad-y-Estadistica/blob/main/probabilidad_U2_Programa1_.ipynb\" target=\"_parent\"><img src=\"https://colab.research.google.com/assets/colab-badge.svg\" alt=\"Open In Colab\"/></a>"
      ]
    },
    {
      "cell_type": "markdown",
      "source": [
        "#**PROBABILIDAD Y ESTADÍSTICA**\n",
        "##Unidad 2\n",
        "###*Programa1. Combinaciones sin y con repetición*\n",
        "\n",
        "Facilitador: Dr. José Gabriel Rodriguez Rivas\n",
        "\n",
        "Alumna: Leany Blanco Muñoz\n",
        "\n",
        "![download.jpg](data:image/jpeg;base64,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)"
      ],
      "metadata": {
        "id": "J3T_7a_V0w2n"
      }
    },
    {
      "cell_type": "markdown",
      "source": [
        "\n",
        "\n",
        "---\n",
        "\n",
        "\n",
        "##Ejemplo 1. Nombres de personas\n",
        "\n",
        "---\n",
        "\n"
      ],
      "metadata": {
        "id": "-6cu0NuLD_iM"
      }
    },
    {
      "cell_type": "code",
      "execution_count": 5,
      "metadata": {
        "id": "yg4NGibex1go"
      },
      "outputs": [],
      "source": [
        "import math as mt # Para factorial\n",
        "from itertools import combinations\n",
        "from itertools import combinations_with_replacement\n",
        "import numpy as np"
      ]
    },
    {
      "cell_type": "code",
      "source": [
        "nombres = [\"Oscar\", \"Paco\", \"Paty\", \"Laura\", \"Rubén\", \"Luis\", \"Lucy\", \"Alberto\", \"Juan\", \"Danny\"]\n",
        "n = len(nombres)\n",
        "r = 2# ¿cómo agrupar?\n",
        "\n",
        "Cn = mt. factorial (n) / (mt. factorial(r) * mt.factorial (n-r))\n",
        "print(\"Existen \", Cn, \" posibles combinaciones sin repetición del total de \",\n",
        "     n,\" nombres \", \" en grupos de \", r,\" en \", r)\n",
        "\n",
        "print(\"Aquí las combinaciones\")\n",
        "combinaciones_nombres = list(combinations (nombres, r))\n",
        "# Imprimir las combinaciones\n",
        "for combinacion in combinaciones_nombres:\n",
        " print(combinacion)\n"
      ],
      "metadata": {
        "colab": {
          "base_uri": "https://localhost:8080/"
        },
        "id": "ZoNozfaa29ex",
        "outputId": "4336ece1-1434-4377-8da1-748b49d18c92"
      },
      "execution_count": 6,
      "outputs": [
        {
          "output_type": "stream",
          "name": "stdout",
          "text": [
            "Existen  45.0  posibles combinaciones sin repetición del total de  10  nombres   en grupos de  2  en  2\n",
            "Aquí las combinaciones\n",
            "('Oscar', 'Paco')\n",
            "('Oscar', 'Paty')\n",
            "('Oscar', 'Laura')\n",
            "('Oscar', 'Rubén')\n",
            "('Oscar', 'Luis')\n",
            "('Oscar', 'Lucy')\n",
            "('Oscar', 'Alberto')\n",
            "('Oscar', 'Juan')\n",
            "('Oscar', 'Danny')\n",
            "('Paco', 'Paty')\n",
            "('Paco', 'Laura')\n",
            "('Paco', 'Rubén')\n",
            "('Paco', 'Luis')\n",
            "('Paco', 'Lucy')\n",
            "('Paco', 'Alberto')\n",
            "('Paco', 'Juan')\n",
            "('Paco', 'Danny')\n",
            "('Paty', 'Laura')\n",
            "('Paty', 'Rubén')\n",
            "('Paty', 'Luis')\n",
            "('Paty', 'Lucy')\n",
            "('Paty', 'Alberto')\n",
            "('Paty', 'Juan')\n",
            "('Paty', 'Danny')\n",
            "('Laura', 'Rubén')\n",
            "('Laura', 'Luis')\n",
            "('Laura', 'Lucy')\n",
            "('Laura', 'Alberto')\n",
            "('Laura', 'Juan')\n",
            "('Laura', 'Danny')\n",
            "('Rubén', 'Luis')\n",
            "('Rubén', 'Lucy')\n",
            "('Rubén', 'Alberto')\n",
            "('Rubén', 'Juan')\n",
            "('Rubén', 'Danny')\n",
            "('Luis', 'Lucy')\n",
            "('Luis', 'Alberto')\n",
            "('Luis', 'Juan')\n",
            "('Luis', 'Danny')\n",
            "('Lucy', 'Alberto')\n",
            "('Lucy', 'Juan')\n",
            "('Lucy', 'Danny')\n",
            "('Alberto', 'Juan')\n",
            "('Alberto', 'Danny')\n",
            "('Juan', 'Danny')\n"
          ]
        }
      ]
    },
    {
      "cell_type": "markdown",
      "source": [
        "\n",
        "---\n",
        "\n",
        "\n",
        "##Ejemplo 2. Caracteres alfabéticos y dígitos\n",
        "\n",
        "\n",
        "---\n",
        "\n"
      ],
      "metadata": {
        "id": "UXYad17pENwb"
      }
    },
    {
      "cell_type": "code",
      "source": [
        "\n",
        "caracteres = [\"A\", \"B\", \"C\", \"D\", \"E\", \"F\", \"0\", \"1\", \"2\", \"3\", \"4\", \"5\"]\n",
        "n = len(caracteres)\n",
        "r = 10 # ¿cómo agrupar?\n",
        "\n",
        "Cn = mt. factorial (n) / (mt. factorial(r) * mt.factorial(n-r))\n",
        "print(\"Existen \", Cn, \" posibles combinaciones sin repetición del total de \", n ,\n",
        "      \" caracteres \",\"  en grupos de \", r ,\" en \", r)\n",
        "\n",
        "print(\"Aquí las combinaciones\")\n",
        "combinaciones_caracteres = list(combinations (caracteres, r))\n",
        "\n",
        "#Imprime las combinaciones\n",
        "for combinacion in combinaciones_caracteres:\n",
        " print(combinacion)\n"
      ],
      "metadata": {
        "id": "196g7LMr4jx0",
        "colab": {
          "base_uri": "https://localhost:8080/"
        },
        "outputId": "6ecf3d04-ec22-408b-8b3c-c56441f3097c"
      },
      "execution_count": 7,
      "outputs": [
        {
          "output_type": "stream",
          "name": "stdout",
          "text": [
            "Existen  66.0  posibles combinaciones sin repetición del total de  12  caracteres    en grupos de  10  en  10\n",
            "Aquí las combinaciones\n",
            "('A', 'B', 'C', 'D', 'E', 'F', '0', '1', '2', '3')\n",
            "('A', 'B', 'C', 'D', 'E', 'F', '0', '1', '2', '4')\n",
            "('A', 'B', 'C', 'D', 'E', 'F', '0', '1', '2', '5')\n",
            "('A', 'B', 'C', 'D', 'E', 'F', '0', '1', '3', '4')\n",
            "('A', 'B', 'C', 'D', 'E', 'F', '0', '1', '3', '5')\n",
            "('A', 'B', 'C', 'D', 'E', 'F', '0', '1', '4', '5')\n",
            "('A', 'B', 'C', 'D', 'E', 'F', '0', '2', '3', '4')\n",
            "('A', 'B', 'C', 'D', 'E', 'F', '0', '2', '3', '5')\n",
            "('A', 'B', 'C', 'D', 'E', 'F', '0', '2', '4', '5')\n",
            "('A', 'B', 'C', 'D', 'E', 'F', '0', '3', '4', '5')\n",
            "('A', 'B', 'C', 'D', 'E', 'F', '1', '2', '3', '4')\n",
            "('A', 'B', 'C', 'D', 'E', 'F', '1', '2', '3', '5')\n",
            "('A', 'B', 'C', 'D', 'E', 'F', '1', '2', '4', '5')\n",
            "('A', 'B', 'C', 'D', 'E', 'F', '1', '3', '4', '5')\n",
            "('A', 'B', 'C', 'D', 'E', 'F', '2', '3', '4', '5')\n",
            "('A', 'B', 'C', 'D', 'E', '0', '1', '2', '3', '4')\n",
            "('A', 'B', 'C', 'D', 'E', '0', '1', '2', '3', '5')\n",
            "('A', 'B', 'C', 'D', 'E', '0', '1', '2', '4', '5')\n",
            "('A', 'B', 'C', 'D', 'E', '0', '1', '3', '4', '5')\n",
            "('A', 'B', 'C', 'D', 'E', '0', '2', '3', '4', '5')\n",
            "('A', 'B', 'C', 'D', 'E', '1', '2', '3', '4', '5')\n",
            "('A', 'B', 'C', 'D', 'F', '0', '1', '2', '3', '4')\n",
            "('A', 'B', 'C', 'D', 'F', '0', '1', '2', '3', '5')\n",
            "('A', 'B', 'C', 'D', 'F', '0', '1', '2', '4', '5')\n",
            "('A', 'B', 'C', 'D', 'F', '0', '1', '3', '4', '5')\n",
            "('A', 'B', 'C', 'D', 'F', '0', '2', '3', '4', '5')\n",
            "('A', 'B', 'C', 'D', 'F', '1', '2', '3', '4', '5')\n",
            "('A', 'B', 'C', 'D', '0', '1', '2', '3', '4', '5')\n",
            "('A', 'B', 'C', 'E', 'F', '0', '1', '2', '3', '4')\n",
            "('A', 'B', 'C', 'E', 'F', '0', '1', '2', '3', '5')\n",
            "('A', 'B', 'C', 'E', 'F', '0', '1', '2', '4', '5')\n",
            "('A', 'B', 'C', 'E', 'F', '0', '1', '3', '4', '5')\n",
            "('A', 'B', 'C', 'E', 'F', '0', '2', '3', '4', '5')\n",
            "('A', 'B', 'C', 'E', 'F', '1', '2', '3', '4', '5')\n",
            "('A', 'B', 'C', 'E', '0', '1', '2', '3', '4', '5')\n",
            "('A', 'B', 'C', 'F', '0', '1', '2', '3', '4', '5')\n",
            "('A', 'B', 'D', 'E', 'F', '0', '1', '2', '3', '4')\n",
            "('A', 'B', 'D', 'E', 'F', '0', '1', '2', '3', '5')\n",
            "('A', 'B', 'D', 'E', 'F', '0', '1', '2', '4', '5')\n",
            "('A', 'B', 'D', 'E', 'F', '0', '1', '3', '4', '5')\n",
            "('A', 'B', 'D', 'E', 'F', '0', '2', '3', '4', '5')\n",
            "('A', 'B', 'D', 'E', 'F', '1', '2', '3', '4', '5')\n",
            "('A', 'B', 'D', 'E', '0', '1', '2', '3', '4', '5')\n",
            "('A', 'B', 'D', 'F', '0', '1', '2', '3', '4', '5')\n",
            "('A', 'B', 'E', 'F', '0', '1', '2', '3', '4', '5')\n",
            "('A', 'C', 'D', 'E', 'F', '0', '1', '2', '3', '4')\n",
            "('A', 'C', 'D', 'E', 'F', '0', '1', '2', '3', '5')\n",
            "('A', 'C', 'D', 'E', 'F', '0', '1', '2', '4', '5')\n",
            "('A', 'C', 'D', 'E', 'F', '0', '1', '3', '4', '5')\n",
            "('A', 'C', 'D', 'E', 'F', '0', '2', '3', '4', '5')\n",
            "('A', 'C', 'D', 'E', 'F', '1', '2', '3', '4', '5')\n",
            "('A', 'C', 'D', 'E', '0', '1', '2', '3', '4', '5')\n",
            "('A', 'C', 'D', 'F', '0', '1', '2', '3', '4', '5')\n",
            "('A', 'C', 'E', 'F', '0', '1', '2', '3', '4', '5')\n",
            "('A', 'D', 'E', 'F', '0', '1', '2', '3', '4', '5')\n",
            "('B', 'C', 'D', 'E', 'F', '0', '1', '2', '3', '4')\n",
            "('B', 'C', 'D', 'E', 'F', '0', '1', '2', '3', '5')\n",
            "('B', 'C', 'D', 'E', 'F', '0', '1', '2', '4', '5')\n",
            "('B', 'C', 'D', 'E', 'F', '0', '1', '3', '4', '5')\n",
            "('B', 'C', 'D', 'E', 'F', '0', '2', '3', '4', '5')\n",
            "('B', 'C', 'D', 'E', 'F', '1', '2', '3', '4', '5')\n",
            "('B', 'C', 'D', 'E', '0', '1', '2', '3', '4', '5')\n",
            "('B', 'C', 'D', 'F', '0', '1', '2', '3', '4', '5')\n",
            "('B', 'C', 'E', 'F', '0', '1', '2', '3', '4', '5')\n",
            "('B', 'D', 'E', 'F', '0', '1', '2', '3', '4', '5')\n",
            "('C', 'D', 'E', 'F', '0', '1', '2', '3', '4', '5')\n"
          ]
        }
      ]
    },
    {
      "cell_type": "markdown",
      "source": [
        "\n",
        "---\n",
        "\n",
        "\n",
        "##Ejemplo 3. Combinaciones con repetición\n",
        "\n",
        "\n",
        "---"
      ],
      "metadata": {
        "id": "3yQU_fMmGudK"
      }
    },
    {
      "cell_type": "code",
      "source": [
        "dado = [1, 2, 3, 4, 5, 6]\n",
        "n = len(dado)\n",
        "r = 2 # ¿cómo agrupar?, de dos en dos porque hay dos dados\n",
        "CnR=mt.factorial (n+r-1)/(mt.factorial (r)* mt. factorial ((n+r-1)-r))\n",
        "print(\"Existen \", CnR, \" posibles combinaciones con repetición del total de \", n,\n",
        "      \" caracteres \", \" en grupos de \", r,\" en \", r)\n",
        "print(\"Aquí las combinaciones con repetición de dos dados\")\n",
        "\n",
        "# Definir el conjunto de elementos\n",
        "elementos = [1, 2, 3, 4, 5, 6]\n",
        "\n",
        "# Número de elementos a elegir en cada combinación\n",
        "r = 2\n",
        "#Calcular Las combinaciones con repetición\n",
        "combinaciones_dados =list (combinations_with_replacement (dado, r))\n",
        "\n",
        "# Imprimir las combinaciones\n",
        "for combinacion in combinaciones_dados:\n",
        " print(combinacion)"
      ],
      "metadata": {
        "colab": {
          "base_uri": "https://localhost:8080/"
        },
        "id": "08HT2gtHGFuv",
        "outputId": "594eeafc-5cba-47ca-d614-826914e9969b"
      },
      "execution_count": 9,
      "outputs": [
        {
          "output_type": "stream",
          "name": "stdout",
          "text": [
            "Existen  21.0  posibles combinaciones con repetición del total de  6  caracteres   en grupos de  2  en  2\n",
            "Aquí las combinaciones con repetición de dos dados\n",
            "(1, 1)\n",
            "(1, 2)\n",
            "(1, 3)\n",
            "(1, 4)\n",
            "(1, 5)\n",
            "(1, 6)\n",
            "(2, 2)\n",
            "(2, 3)\n",
            "(2, 4)\n",
            "(2, 5)\n",
            "(2, 6)\n",
            "(3, 3)\n",
            "(3, 4)\n",
            "(3, 5)\n",
            "(3, 6)\n",
            "(4, 4)\n",
            "(4, 5)\n",
            "(4, 6)\n",
            "(5, 5)\n",
            "(5, 6)\n",
            "(6, 6)\n"
          ]
        }
      ]
    }
  ]
}