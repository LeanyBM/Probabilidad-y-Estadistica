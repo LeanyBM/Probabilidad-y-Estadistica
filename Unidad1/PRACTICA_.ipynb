{
  "nbformat": 4,
  "nbformat_minor": 0,
  "metadata": {
    "colab": {
      "provenance": [],
      "authorship_tag": "ABX9TyPMZleG9yj1n1FrLz31plON",
      "include_colab_link": true
    },
    "kernelspec": {
      "name": "python3",
      "display_name": "Python 3"
    },
    "language_info": {
      "name": "python"
    }
  },
  "cells": [
    {
      "cell_type": "markdown",
      "metadata": {
        "id": "view-in-github",
        "colab_type": "text"
      },
      "source": [
        "<a href=\"https://colab.research.google.com/github/LeanyBM/Probabilidad-y-Estadistica/blob/main/Unidad1/PRACTICA_.ipynb\" target=\"_parent\"><img src=\"https://colab.research.google.com/assets/colab-badge.svg\" alt=\"Open In Colab\"/></a>"
      ]
    },
    {
      "cell_type": "markdown",
      "source": [
        "#**PROBABILIDAD Y ESTADISTICA**\n",
        "\n",
        "##Unidad 1\n",
        "\n",
        "##Practica1. Estadística descriptiva básica e Histogramas\n",
        "\n",
        "Facilitador: Dr. José Gabriel Rodríguez\n",
        "\n",
        "Alumno: Leany Blanco Muñoz\n",
        "\n",
        "![images.jpg](data:image/jpeg;base64,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)"
      ],
      "metadata": {
        "id": "uEuCBn_OvlGH"
      }
    },
    {
      "cell_type": "code",
      "execution_count": 25,
      "metadata": {
        "id": "1d3tpXG1vh1M"
      },
      "outputs": [],
      "source": [
        "from statistics import*"
      ]
    },
    {
      "cell_type": "code",
      "source": [
        "#Lista de calificaciones del grupo a de probabildad y estadística\n",
        "grupoa = [70,70,65,90,100,95,45,80,73,20,100,96]\n",
        "print (grupoa)"
      ],
      "metadata": {
        "colab": {
          "base_uri": "https://localhost:8080/"
        },
        "id": "QAsxrLqmwRlE",
        "outputId": "546720e8-9331-4a12-e8bd-a4d3a7ef478a"
      },
      "execution_count": 26,
      "outputs": [
        {
          "output_type": "stream",
          "name": "stdout",
          "text": [
            "[70, 70, 65, 90, 100, 95, 45, 80, 73, 20, 100, 96]\n"
          ]
        }
      ]
    },
    {
      "cell_type": "code",
      "source": [
        "#la función de type nos devuelve el tipo de dato de la variable type(grupoa)"
      ],
      "metadata": {
        "id": "HKimY_liwtvx"
      },
      "execution_count": 27,
      "outputs": []
    },
    {
      "cell_type": "code",
      "source": [
        "#Sacar la media de las calificaciones con una formula\n",
        "promedio = sum(grupoa)/len(grupoa)\n",
        "print(promedio)"
      ],
      "metadata": {
        "colab": {
          "base_uri": "https://localhost:8080/"
        },
        "id": "q2i1_4Pjxlyj",
        "outputId": "3e1678c3-8406-4094-d390-d4b209c3b045"
      },
      "execution_count": 28,
      "outputs": [
        {
          "output_type": "stream",
          "name": "stdout",
          "text": [
            "75.33333333333333\n"
          ]
        }
      ]
    },
    {
      "cell_type": "code",
      "source": [
        "#Utilizar la función mean que está en la librería statistics para sacar\n",
        "# el promedio\n",
        "promedio2 = mean(grupoa)\n",
        "print(promedio2)"
      ],
      "metadata": {
        "colab": {
          "base_uri": "https://localhost:8080/"
        },
        "id": "z4c6ZMClx874",
        "outputId": "0bd7fafe-5059-4d58-8695-0aed487e8017"
      },
      "execution_count": 29,
      "outputs": [
        {
          "output_type": "stream",
          "name": "stdout",
          "text": [
            "75.33333333333333\n"
          ]
        }
      ]
    },
    {
      "cell_type": "code",
      "source": [
        "# Determinar el valor de la mediana con la función median\n",
        "mediana = median(grupoa)\n",
        "print(mediana)"
      ],
      "metadata": {
        "colab": {
          "base_uri": "https://localhost:8080/"
        },
        "id": "8OE-OBDtzKR-",
        "outputId": "f39b1649-412a-43a0-e249-1d659ba1588c"
      },
      "execution_count": 30,
      "outputs": [
        {
          "output_type": "stream",
          "name": "stdout",
          "text": [
            "76.5\n"
          ]
        }
      ]
    },
    {
      "cell_type": "code",
      "source": [
        "# Determinar el valor de la coma con la función mode\n",
        "moda  = mode(grupoa)\n",
        "print(moda)"
      ],
      "metadata": {
        "colab": {
          "base_uri": "https://localhost:8080/"
        },
        "id": "lGf_Day1zwgn",
        "outputId": "660aa65c-66c4-4f9b-84c4-64280f81f772"
      },
      "execution_count": 31,
      "outputs": [
        {
          "output_type": "stream",
          "name": "stdout",
          "text": [
            "70\n"
          ]
        }
      ]
    },
    {
      "cell_type": "code",
      "source": [
        "# En caso de que exista mas de una moda, se puede emplear la función multimode par\n",
        "#Multiples modas que puedan existir\n",
        "moda2 =multimode(grupoa)\n",
        "print(moda2)"
      ],
      "metadata": {
        "id": "ihxkskiIz-BC",
        "colab": {
          "base_uri": "https://localhost:8080/"
        },
        "outputId": "5ed7ca81-f251-4454-bfb7-0ca89485c306"
      },
      "execution_count": 32,
      "outputs": [
        {
          "output_type": "stream",
          "name": "stdout",
          "text": [
            "[70, 100]\n"
          ]
        }
      ]
    },
    {
      "cell_type": "markdown",
      "source": [
        "##Ejemplo 2. Tiempos de 100 metros de un grupo de 12 alumnos\n"
      ],
      "metadata": {
        "id": "xhubdGwW0Rfn"
      }
    },
    {
      "cell_type": "code",
      "source": [
        "#Definimos temporalmente una variable llamada tiempos 100\n",
        "# tiempos que tardaron los 10 alumnos para recorrer los 100 mts\n",
        "tiempos100mts = [15.10,17.20,14.69,13.27,22.15,18.71,19.15,20.65,15.10,17.20]\n",
        "# Desplegamos los valores de la lista\n",
        "print (tiempos100mts)"
      ],
      "metadata": {
        "colab": {
          "base_uri": "https://localhost:8080/"
        },
        "id": "ZFFSB5Ll0av4",
        "outputId": "d6bdb445-b51e-4d89-abc0-62ed36c6aa8d"
      },
      "execution_count": 33,
      "outputs": [
        {
          "output_type": "stream",
          "name": "stdout",
          "text": [
            "[15.1, 17.2, 14.69, 13.27, 22.15, 18.71, 19.15, 20.65, 15.1, 17.2]\n"
          ]
        }
      ]
    },
    {
      "cell_type": "markdown",
      "source": [
        "Función mean para calcular el promedio"
      ],
      "metadata": {
        "id": "zJWb1Q-b1k2Q"
      }
    },
    {
      "cell_type": "code",
      "source": [
        "#Usamos la funcion mean para determinar el tiempo promedio de la lista de valores\n",
        "print(\"El tiempo promedio de los corredores es=\",mean(tiempos100mts))"
      ],
      "metadata": {
        "colab": {
          "base_uri": "https://localhost:8080/"
        },
        "id": "3vDx1TwZ1PtQ",
        "outputId": "ea962446-074b-4b71-e2d7-cc3eb90eafc2"
      },
      "execution_count": 34,
      "outputs": [
        {
          "output_type": "stream",
          "name": "stdout",
          "text": [
            "El tiempo promedio de los corredores es= 17.322\n"
          ]
        }
      ]
    },
    {
      "cell_type": "markdown",
      "source": [
        "Funcion mean para calcular la mediana"
      ],
      "metadata": {
        "id": "g3TK_VHZ1tP5"
      }
    },
    {
      "cell_type": "code",
      "source": [
        "mediana = median(tiempos100mts)\n",
        "print(\"La media de los tiempos de los corredores es=\",mediana)"
      ],
      "metadata": {
        "colab": {
          "base_uri": "https://localhost:8080/"
        },
        "id": "Z7gPAxry1px7",
        "outputId": "22fb9c1b-8a7a-42a1-b471-c203b78dad2a"
      },
      "execution_count": 35,
      "outputs": [
        {
          "output_type": "stream",
          "name": "stdout",
          "text": [
            "La media de los tiempos de los corredores es= 17.2\n"
          ]
        }
      ]
    },
    {
      "cell_type": "code",
      "source": [
        "moda = mode(tiempos100mts)\n",
        "print(\"La moda de los tiempos de los corredores es=\",moda)"
      ],
      "metadata": {
        "colab": {
          "base_uri": "https://localhost:8080/"
        },
        "id": "RhxEFT4I2E4t",
        "outputId": "469316ed-ebb2-4eba-dfc7-592c347bc43a"
      },
      "execution_count": 36,
      "outputs": [
        {
          "output_type": "stream",
          "name": "stdout",
          "text": [
            "La moda de los tiempos de los corredores es= 15.1\n"
          ]
        }
      ]
    },
    {
      "cell_type": "code",
      "source": [
        "multimodas = multimode(tiempos100mts)\n",
        "print(\"La moda de los tiempos  es=\",multimodas)"
      ],
      "metadata": {
        "colab": {
          "base_uri": "https://localhost:8080/"
        },
        "id": "s0w-qgJv2XcP",
        "outputId": "ce632c5f-4b51-4b3d-ead7-7f47b6444b0c"
      },
      "execution_count": 37,
      "outputs": [
        {
          "output_type": "stream",
          "name": "stdout",
          "text": [
            "La moda de los tiempos  es= [15.1, 17.2]\n"
          ]
        }
      ]
    },
    {
      "cell_type": "markdown",
      "source": [
        "##Ejemplo 3: Histogramas de 2 grupos"
      ],
      "metadata": {
        "id": "ESZePuI82tvw"
      }
    },
    {
      "cell_type": "code",
      "source": [
        "#Libreria para generar numeros aleatorios\n",
        "import random"
      ],
      "metadata": {
        "id": "7Ou0uR9022xm"
      },
      "execution_count": 38,
      "outputs": []
    },
    {
      "cell_type": "code",
      "source": [
        "fabrica1 = []\n",
        "for i in range(100):\n",
        "  numero_aleatorio = round(random.uniform(50, 100), 2)\n",
        "  fabrica1.append(numero_aleatorio)\n",
        "print(fabrica1)"
      ],
      "metadata": {
        "colab": {
          "base_uri": "https://localhost:8080/"
        },
        "id": "5d6j2d0k3JsT",
        "outputId": "7536618d-3f30-4529-8300-f2284d1d9dc7"
      },
      "execution_count": 39,
      "outputs": [
        {
          "output_type": "stream",
          "name": "stdout",
          "text": [
            "[62.83, 73.65, 98.94, 74.31, 61.18, 76.41, 93.99, 74.83, 92.83, 51.47, 95.85, 97.62, 98.43, 73.57, 63.83, 88.76, 99.65, 94.52, 70.76, 72.49, 51.45, 62.44, 84.03, 72.95, 77.84, 98.3, 99.53, 96.15, 82.2, 84.78, 71.97, 89.3, 56.17, 90.78, 63.07, 94.85, 66.81, 95.5, 51.41, 89.38, 63.83, 61.2, 87.33, 59.24, 95.19, 75.13, 54.97, 67.09, 79.32, 94.77, 59.68, 94.32, 65.02, 75.33, 67.62, 59.85, 66.76, 91.98, 90.06, 72.89, 99.18, 81.05, 58.1, 61.24, 82.83, 86.77, 82.13, 87.7, 72.84, 69.36, 96.21, 98.01, 89.48, 62.89, 88.23, 82.91, 84.54, 66.7, 60.19, 87.01, 60.27, 72.32, 50.65, 59.32, 86.42, 63.19, 95.88, 69.79, 58.48, 86.76, 99.22, 99.34, 81.32, 55.02, 91.52, 92.17, 50.61, 55.52, 82.33, 96.88]\n"
          ]
        }
      ]
    },
    {
      "cell_type": "code",
      "source": [
        "fabrica2 = []\n",
        "for i in range(100):\n",
        "  numero_aleatorio = round(random.uniform(50, 100), 2)\n",
        "  fabrica2.append(numero_aleatorio)\n",
        "print(fabrica2)"
      ],
      "metadata": {
        "colab": {
          "base_uri": "https://localhost:8080/"
        },
        "id": "BlxwAWOo4pXK",
        "outputId": "31e00e39-64ea-4de8-dbd4-494b7546f16a"
      },
      "execution_count": 40,
      "outputs": [
        {
          "output_type": "stream",
          "name": "stdout",
          "text": [
            "[55.84, 55.13, 54.2, 90.64, 61.09, 80.43, 58.66, 82.77, 72.11, 67.55, 96.32, 98.2, 69.55, 79.33, 56.21, 88.13, 88.97, 85.73, 98.14, 82.98, 93.56, 63.06, 78.84, 71.78, 53.53, 90.42, 73.68, 61.09, 81.9, 79.39, 75.28, 79.98, 70.48, 58.97, 87.02, 56.41, 53.26, 76.38, 56.55, 70.78, 56.48, 72.31, 94.07, 95.6, 69.9, 91.53, 99.18, 88.15, 79.06, 51.92, 79.69, 70.49, 66.49, 81.2, 64.13, 77.94, 57.07, 99.86, 97.57, 68.52, 92.68, 67.93, 83.64, 62.75, 75.25, 50.42, 95.27, 86.53, 65.95, 66.79, 50.45, 51.52, 77.59, 80.23, 95.23, 82.15, 50.68, 87.8, 51.35, 99.27, 86.35, 82.8, 87.12, 55.94, 50.31, 70.84, 65.66, 89.05, 78.41, 52.38, 73.91, 51.32, 91.8, 99.25, 74.2, 66.47, 85.12, 89.93, 66.51, 63.38]\n"
          ]
        }
      ]
    },
    {
      "cell_type": "code",
      "source": [
        "#Libreria python para graficar valores\n",
        "import matplotlib.pyplot as plt"
      ],
      "metadata": {
        "id": "iB8qmkVI47Fq"
      },
      "execution_count": 41,
      "outputs": []
    },
    {
      "cell_type": "code",
      "source": [
        "plt.hist(fabrica1)\n",
        "plt.title(\"Producción diaria de la Fabrica 1\")\n"
      ],
      "metadata": {
        "colab": {
          "base_uri": "https://localhost:8080/",
          "height": 469
        },
        "id": "rcCoXA1W5FVl",
        "outputId": "6001d083-8219-4d94-8b22-a5dabd2902b7"
      },
      "execution_count": 42,
      "outputs": [
        {
          "output_type": "execute_result",
          "data": {
            "text/plain": [
              "Text(0.5, 1.0, 'Producción diaria de la Fabrica 1')"
            ]
          },
          "metadata": {},
          "execution_count": 42
        },
        {
          "output_type": "display_data",
          "data": {
            "text/plain": [
              "<Figure size 640x480 with 1 Axes>"
            ],
            "image/png": "[encoded data removed]"
          },
          "metadata": {}
        }
      ]
    },
    {
      "cell_type": "code",
      "source": [
        "plt.hist(fabrica2)\n",
        "plt.title(\"Producción diaria de la Fabrica 2\")"
      ],
      "metadata": {
        "colab": {
          "base_uri": "https://localhost:8080/",
          "height": 469
        },
        "id": "J3ArU9ev5HUj",
        "outputId": "750c309e-2144-46ff-b7fa-927ff82227cb"
      },
      "execution_count": 43,
      "outputs": [
        {
          "output_type": "execute_result",
          "data": {
            "text/plain": [
              "Text(0.5, 1.0, 'Producción diaria de la Fabrica 2')"
            ]
          },
          "metadata": {},
          "execution_count": 43
        },
        {
          "output_type": "display_data",
          "data": {
            "text/plain": [
              "<Figure size 640x480 with 1 Axes>"
            ],
            "image/png": "[encoded data removed]"
          },
          "metadata": {}
        }
      ]
    },
    {
      "cell_type": "code",
      "source": [
        "media1 = mean(fabrica1)\n",
        "mediana1= median(fabrica1)\n",
        "moda1 = mode(fabrica1)\n",
        "\n",
        "print(\"Valores de la fabrica 1\")\n",
        "print(\"La media es=\",media1)\n",
        "print(\"La mediana es=\",mediana1)\n",
        "print(\"La moda es=\",moda1)"
      ],
      "metadata": {
        "colab": {
          "base_uri": "https://localhost:8080/"
        },
        "id": "jN_LwfDk5mHL",
        "outputId": "1cfa39a9-eac5-411b-94c5-4f441081340b"
      },
      "execution_count": 44,
      "outputs": [
        {
          "output_type": "stream",
          "name": "stdout",
          "text": [
            "Valores de la fabrica 1\n",
            "La media es= 77.8079\n",
            "La mediana es= 78.58\n",
            "La moda es= 63.83\n"
          ]
        }
      ]
    },
    {
      "cell_type": "code",
      "source": [
        "media2 = mean(fabrica2)\n",
        "mediana2= median(fabrica2)\n",
        "moda2 = mode(fabrica2)\n",
        "\n",
        "print(\"Valores de la fabrica 2\")\n",
        "print(\"La media es=\",media2)\n",
        "print(\"La mediana es=\",mediana2)\n",
        "print(\"La moda es=\",moda2)"
      ],
      "metadata": {
        "colab": {
          "base_uri": "https://localhost:8080/"
        },
        "id": "Y4cWrfK-6mcX",
        "outputId": "a8fec3ff-abad-4c46-ee0e-66672fbcc938"
      },
      "execution_count": 45,
      "outputs": [
        {
          "output_type": "stream",
          "name": "stdout",
          "text": [
            "Valores de la fabrica 2\n",
            "La media es= 74.6973\n",
            "La mediana es= 75.265\n",
            "La moda es= 61.09\n"
          ]
        }
      ]
    },
    {
      "cell_type": "code",
      "source": [
        "fig, (ax1, ax2) = plt.subplots(nrows=1, ncols=2, figsize=(10,5))\n",
        "ax1.hist(fabrica1)\n",
        "ax2.hist(fabrica2)\n",
        "plt.show()\n"
      ],
      "metadata": {
        "colab": {
          "base_uri": "https://localhost:8080/",
          "height": 445
        },
        "id": "57fSCLGr7OSF",
        "outputId": "f73bee19-fd46-4290-b03d-0df78e7b0da5"
      },
      "execution_count": 46,
      "outputs": [
        {
          "output_type": "display_data",
          "data": {
            "text/plain": [
              "<Figure size 1000x500 with 2 Axes>"
            ],
            "image/png": "[encoded data removed]"
          },
          "metadata": {}
        }
      ]
    },
    {
      "cell_type": "code",
      "source": [
        "plt.hist(fabrica1,bins=10, alpha=0.2, color=\"b\", edgecolor=\"black\")\n",
        "plt.axvline(media1, color=\"b\", linestyle=\"dashed\", linewidth=2, label= \"Media\")\n",
        "plt.axvline(mediana1, color=\"r\", linestyle=\"dashed\",linewidth=2, label=\"Mediana\")\n",
        "plt.axvline(moda1, color=\"y\", linestyle=\"dashed\",linewidth=2, label=\"Moda\")\n",
        "plt.xlabel(\"Valor\")\n",
        "plt.ylabel(\"Frecuencia\")\n",
        "plt.title(\"Producción diaria de la Fabrica 1\")\n",
        "plt.legend()\n",
        "plt.show()"
      ],
      "metadata": {
        "colab": {
          "base_uri": "https://localhost:8080/",
          "height": 472
        },
        "id": "vwLUFh618e_U",
        "outputId": "fd12448b-e0e8-4e08-c4f1-aee0f5dae03a"
      },
      "execution_count": 53,
      "outputs": [
        {
          "output_type": "display_data",
          "data": {
            "text/plain": [
              "<Figure size 640x480 with 1 Axes>"
            ],
            "image/png": "[encoded data removed]"
          },
          "metadata": {}
        }
      ]
    },
    {
      "cell_type": "code",
      "source": [
        "plt.hist(fabrica2,bins=10, alpha=0.2, color=\"b\", edgecolor=\"black\")\n",
        "plt.axvline(media2, color=\"b\", linestyle=\"dashed\", linewidth=2, label= \"Media\")\n",
        "plt.axvline(mediana2, color=\"r\", linestyle=\"dashed\",linewidth=2, label=\"Mediana\")\n",
        "plt.axvline(moda2, color=\"y\", linestyle=\"dashed\",linewidth=2, label=\"Moda\")\n",
        "plt.xlabel(\"Valor\")\n",
        "plt.ylabel(\"Frecuencia\")\n",
        "plt.title(\"Producción diaria de la Fabrica 2\")\n",
        "plt.legend()\n",
        "plt.show()"
      ],
      "metadata": {
        "colab": {
          "base_uri": "https://localhost:8080/",
          "height": 472
        },
        "id": "Ld1AUFKa_dih",
        "outputId": "b1b6142b-dfe3-489a-9925-10f80739888d"
      },
      "execution_count": 52,
      "outputs": [
        {
          "output_type": "display_data",
          "data": {
            "text/plain": [
              "<Figure size 640x480 with 1 Axes>"
            ],
            "image/png": "[encoded data removed]"
          },
          "metadata": {}
        }
      ]
    }
  ]
}