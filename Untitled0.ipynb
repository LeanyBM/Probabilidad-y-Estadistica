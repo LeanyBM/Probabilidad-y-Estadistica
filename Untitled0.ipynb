{
  "nbformat": 4,
  "nbformat_minor": 0,
  "metadata": {
    "colab": {
      "provenance": [],
      "authorship_tag": "ABX9TyOsH/Ipq9qb7tEPZUK3hEGz",
      "include_colab_link": true
    },
    "kernelspec": {
      "name": "python3",
      "display_name": "Python 3"
    },
    "language_info": {
      "name": "python"
    }
  },
  "cells": [
    {
      "cell_type": "markdown",
      "metadata": {
        "id": "view-in-github",
        "colab_type": "text"
      },
      "source": [
        "<a href=\"https://colab.research.google.com/github/LeanyBM/Probabilidad-y-Estadistica/blob/main/Untitled0.ipynb\" target=\"_parent\"><img src=\"https://colab.research.google.com/assets/colab-badge.svg\" alt=\"Open In Colab\"/></a>"
      ]
    },
    {
      "cell_type": "markdown",
      "source": [
        "#**PROBABILIDAD Y ESTADISTICA**\n",
        "\n",
        "##Unidad 1\n",
        "\n",
        "#Practica1. Estadística descriptiva básica e Histogramas\n",
        "\n",
        "Facilitador: Dr. José Gabriel Rodríguez\n",
        "\n",
        "Alumno: Leany Blanco Muñoz\n",
        "\n",
        "![images.jpg](data:image/jpeg;base64,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)"
      ],
      "metadata": {
        "id": "uEuCBn_OvlGH"
      }
    },
    {
      "cell_type": "code",
      "execution_count": 9,
      "metadata": {
        "id": "1d3tpXG1vh1M"
      },
      "outputs": [],
      "source": [
        "from statistics import*"
      ]
    },
    {
      "cell_type": "code",
      "source": [
        "#Lista de calificaciones del grupo a de probabildad y estadística\n",
        "grupoa = [70,70,65,90,100,95,45,80,73,20,100,96]\n",
        "print (grupoa)"
      ],
      "metadata": {
        "colab": {
          "base_uri": "https://localhost:8080/"
        },
        "id": "QAsxrLqmwRlE",
        "outputId": "d6140620-6e71-43cf-fde1-4ac135f57cb2"
      },
      "execution_count": 7,
      "outputs": [
        {
          "output_type": "stream",
          "name": "stdout",
          "text": [
            "[70, 70, 65, 90, 100, 95, 45, 80, 73, 20, 100, 96]\n"
          ]
        }
      ]
    },
    {
      "cell_type": "code",
      "source": [
        "#la función de type nos devuelve el tipo de dato de la variable type(grupoa)"
      ],
      "metadata": {
        "id": "HKimY_liwtvx"
      },
      "execution_count": null,
      "outputs": []
    },
    {
      "cell_type": "code",
      "source": [
        "#Sacar la media de las calificaciones con una formula\n",
        "promedio = sum(grupoa)/len(grupoa)\n",
        "print(promedio)"
      ],
      "metadata": {
        "colab": {
          "base_uri": "https://localhost:8080/"
        },
        "id": "q2i1_4Pjxlyj",
        "outputId": "3922aafb-e898-43ba-b99e-1f9aa3c83142"
      },
      "execution_count": 8,
      "outputs": [
        {
          "output_type": "stream",
          "name": "stdout",
          "text": [
            "75.33333333333333\n"
          ]
        }
      ]
    },
    {
      "cell_type": "code",
      "source": [
        "#Utilizar la función mean que está en la librería statistics para sacar\n",
        "# el promedio\n",
        "promedio2 = mean(grupoa)\n",
        "print(promedio2)"
      ],
      "metadata": {
        "colab": {
          "base_uri": "https://localhost:8080/"
        },
        "id": "z4c6ZMClx874",
        "outputId": "e3778ec9-b5b6-4e3f-f547-bc0adc149ce7"
      },
      "execution_count": 10,
      "outputs": [
        {
          "output_type": "stream",
          "name": "stdout",
          "text": [
            "75.33333333333333\n"
          ]
        }
      ]
    },
    {
      "cell_type": "code",
      "source": [
        "# Determinar el valor de la mediana con la función median\n",
        "mediana = median(grupoa)\n",
        "print(mediana)"
      ],
      "metadata": {
        "colab": {
          "base_uri": "https://localhost:8080/"
        },
        "id": "8OE-OBDtzKR-",
        "outputId": "14c98402-3943-4be9-e1d7-fdfd73b8e9c6"
      },
      "execution_count": 11,
      "outputs": [
        {
          "output_type": "stream",
          "name": "stdout",
          "text": [
            "76.5\n"
          ]
        }
      ]
    },
    {
      "cell_type": "code",
      "source": [
        "# Determinar el valor de la coma con la función mode\n",
        "moda  = mode(grupoa)\n",
        "print(moda)"
      ],
      "metadata": {
        "colab": {
          "base_uri": "https://localhost:8080/"
        },
        "id": "lGf_Day1zwgn",
        "outputId": "e2a2c2cd-3bf5-4dab-809e-caec521d1106"
      },
      "execution_count": 12,
      "outputs": [
        {
          "output_type": "stream",
          "name": "stdout",
          "text": [
            "70\n"
          ]
        }
      ]
    },
    {
      "cell_type": "code",
      "source": [
        "# En caso de que exista mas de una moda, se puede emplear la función multimode par\n",
        "#Multiples modas que puedan existir\n",
        "moda2 =multimode(grupoa)\n",
        "print(moda2)"
      ],
      "metadata": {
        "id": "ihxkskiIz-BC"
      },
      "execution_count": null,
      "outputs": []
    },
    {
      "cell_type": "markdown",
      "source": [
        "##Ejemplo 2. Tiempos de 100 metros de un grupo de 12 alumnos\n"
      ],
      "metadata": {
        "id": "xhubdGwW0Rfn"
      }
    },
    {
      "cell_type": "code",
      "source": [
        "#Definimos temporalmente una variable llamada tiempos 100\n",
        "# tiempos que tardaron los 10 alumnos para recorrer los 100 mts\n",
        "tiempos100mts = [15.10,17.20,14.69,13.27,22.15,18.71,19.15,20.65,15.10,17.20]\n",
        "# Desplegamos los valores de la lista\n",
        "print (tiempos100mts)"
      ],
      "metadata": {
        "colab": {
          "base_uri": "https://localhost:8080/"
        },
        "id": "ZFFSB5Ll0av4",
        "outputId": "bdc4ddc2-b549-4ee2-905f-93c21935dfc2"
      },
      "execution_count": 14,
      "outputs": [
        {
          "output_type": "stream",
          "name": "stdout",
          "text": [
            "[15.1, 17.2, 14.69, 13.27, 22.15, 18.71, 19.15, 20.65, 15.1, 17.2]\n"
          ]
        }
      ]
    },
    {
      "cell_type": "markdown",
      "source": [
        "Función mean para calcular el promedio"
      ],
      "metadata": {
        "id": "zJWb1Q-b1k2Q"
      }
    },
    {
      "cell_type": "code",
      "source": [
        "#Usamos la funcion mean para determinar el tiempo promedio de la lista de valores\n",
        "print(\"El tiempo promedio de los corredores es=\",mean(tiempos100mts))"
      ],
      "metadata": {
        "colab": {
          "base_uri": "https://localhost:8080/"
        },
        "id": "3vDx1TwZ1PtQ",
        "outputId": "93509d84-8074-4384-d45b-89223f3dbc4e"
      },
      "execution_count": 15,
      "outputs": [
        {
          "output_type": "stream",
          "name": "stdout",
          "text": [
            "El tiempo promedio de los corredores es= 17.322\n"
          ]
        }
      ]
    },
    {
      "cell_type": "markdown",
      "source": [
        "Funcion mean para calcular la mediana"
      ],
      "metadata": {
        "id": "g3TK_VHZ1tP5"
      }
    },
    {
      "cell_type": "code",
      "source": [
        "mediana = median(tiempos100mts)\n",
        "print(\"La media de los tiempos de los corredores es=\",mediana)"
      ],
      "metadata": {
        "colab": {
          "base_uri": "https://localhost:8080/"
        },
        "id": "Z7gPAxry1px7",
        "outputId": "ec0475dd-2c7e-4c34-eb30-d922fa68eb44"
      },
      "execution_count": 16,
      "outputs": [
        {
          "output_type": "stream",
          "name": "stdout",
          "text": [
            "La media de los tiempos de los corredores es= 17.2\n"
          ]
        }
      ]
    },
    {
      "cell_type": "code",
      "source": [
        "moda = mode(tiempos100mts)\n",
        "print(\"La moda de los tiempos de los corredores es=\",moda)"
      ],
      "metadata": {
        "colab": {
          "base_uri": "https://localhost:8080/"
        },
        "id": "RhxEFT4I2E4t",
        "outputId": "168d1bc2-8829-4bbd-a4e1-16a16ed55cd7"
      },
      "execution_count": 19,
      "outputs": [
        {
          "output_type": "stream",
          "name": "stdout",
          "text": [
            "La moda de los tiempos de los corredores es= 15.1\n"
          ]
        }
      ]
    },
    {
      "cell_type": "code",
      "source": [
        "multimodas = multimode(tiempos100mts)\n",
        "print(\"La moda de los tiempos  es=\",multimodas)"
      ],
      "metadata": {
        "colab": {
          "base_uri": "https://localhost:8080/"
        },
        "id": "s0w-qgJv2XcP",
        "outputId": "bc5ce8b8-98e9-41ae-aa03-936303f28931"
      },
      "execution_count": 21,
      "outputs": [
        {
          "output_type": "stream",
          "name": "stdout",
          "text": [
            "La moda de los tiempos  es= [15.1, 17.2]\n"
          ]
        }
      ]
    },
    {
      "cell_type": "markdown",
      "source": [
        "##Ejemplo 3: Histogramas de 2 grupos"
      ],
      "metadata": {
        "id": "ESZePuI82tvw"
      }
    },
    {
      "cell_type": "code",
      "source": [
        "#Libreria para generar numeros aleatorios\n",
        "import random"
      ],
      "metadata": {
        "id": "7Ou0uR9022xm"
      },
      "execution_count": 22,
      "outputs": []
    },
    {
      "cell_type": "code",
      "source": [
        "fabrica1 = []\n",
        "for i in range(100):\n",
        "  numero_aleatorio = round(random.uniform(50, 100), 2)\n",
        "  fabrica1.append(numero_aleatorio)\n",
        "print(fabrica1)"
      ],
      "metadata": {
        "colab": {
          "base_uri": "https://localhost:8080/"
        },
        "id": "5d6j2d0k3JsT",
        "outputId": "c757bf69-91d8-42bc-e284-f614704e30bc"
      },
      "execution_count": 25,
      "outputs": [
        {
          "output_type": "stream",
          "name": "stdout",
          "text": [
            "[95.4, 66.92, 68.43, 99.26, 73.02, 60.22, 61.58, 96.64, 95.31, 71.17, 95.37, 64.24, 80.58, 55.42, 51.37, 98.44, 56.87, 84.54, 85.98, 99.0, 97.45, 58.4, 52.78, 53.16, 83.82, 88.83, 87.7, 78.6, 65.4, 93.45, 85.96, 93.76, 96.44, 77.94, 86.66, 61.14, 90.96, 76.28, 86.45, 57.38, 79.23, 61.89, 82.39, 57.32, 82.31, 88.13, 91.12, 84.4, 64.41, 75.04, 58.82, 66.22, 89.34, 68.79, 67.29, 90.25, 80.5, 78.11, 82.05, 54.19, 87.79, 60.78, 91.3, 77.57, 88.49, 51.39, 74.97, 90.17, 81.73, 97.69, 57.68, 93.21, 97.41, 55.85, 95.17, 72.76, 50.76, 55.71, 58.53, 87.36, 90.75, 53.7, 96.2, 79.56, 78.13, 97.92, 84.42, 56.59, 61.5, 79.99, 96.48, 64.29, 71.64, 58.25, 87.06, 70.13, 97.88, 85.65, 94.03, 66.33]\n"
          ]
        }
      ]
    },
    {
      "cell_type": "code",
      "source": [
        "fabrica2 = []\n",
        "for i in range(100):\n",
        "  numero_aleatorio = round(random.uniform(50, 100), 2)\n",
        "  fabrica2.append(numero_aleatorio)\n",
        "print(fabrica2)"
      ],
      "metadata": {
        "colab": {
          "base_uri": "https://localhost:8080/"
        },
        "id": "BlxwAWOo4pXK",
        "outputId": "081de390-6660-4574-c5a1-fe82e093f34b"
      },
      "execution_count": 27,
      "outputs": [
        {
          "output_type": "stream",
          "name": "stdout",
          "text": [
            "[78.61, 90.55, 87.08, 74.26, 74.46, 66.86, 80.81, 70.86, 95.35, 53.96, 76.55, 95.53, 88.58, 67.28, 58.29, 66.38, 55.09, 99.58, 61.66, 95.09, 54.1, 67.91, 74.24, 53.16, 94.04, 91.38, 58.99, 72.06, 78.05, 98.98, 65.3, 90.15, 60.45, 92.15, 55.76, 95.64, 60.73, 97.66, 98.51, 83.86, 63.43, 88.9, 65.52, 75.46, 63.92, 69.6, 62.98, 91.57, 84.87, 59.06, 99.7, 56.6, 97.03, 88.19, 61.5, 94.29, 85.65, 55.77, 60.31, 86.7, 79.0, 69.16, 59.32, 60.66, 59.84, 99.48, 98.78, 69.94, 55.32, 77.44, 71.13, 71.24, 92.12, 83.44, 93.49, 70.94, 62.18, 59.92, 52.52, 82.24, 90.63, 56.63, 97.81, 81.89, 77.77, 70.8, 83.03, 87.98, 81.2, 56.07, 99.82, 85.71, 87.76, 61.87, 72.22, 70.23, 85.55, 61.12, 50.3, 98.66]\n"
          ]
        }
      ]
    },
    {
      "cell_type": "code",
      "source": [
        "#Libreria python para graficar valores\n",
        "import matplotlib.pyplot as plt"
      ],
      "metadata": {
        "id": "iB8qmkVI47Fq"
      },
      "execution_count": 28,
      "outputs": []
    },
    {
      "cell_type": "code",
      "source": [
        "plt.hist(fabrica1)\n",
        "plt.title(\"Producción diaria de la Fabrica 1\")\n"
      ],
      "metadata": {
        "colab": {
          "base_uri": "https://localhost:8080/",
          "height": 469
        },
        "id": "rcCoXA1W5FVl",
        "outputId": "2ca68fb6-d669-469f-908a-2290823f02dd"
      },
      "execution_count": 29,
      "outputs": [
        {
          "output_type": "execute_result",
          "data": {
            "text/plain": [
              "Text(0.5, 1.0, 'Producción diaria de la Fabrica 1')"
            ]
          },
          "metadata": {},
          "execution_count": 29
        },
        {
          "output_type": "display_data",
          "data": {
            "text/plain": [
              "<Figure size 640x480 with 1 Axes>"
            ],
            "image/png": "[encoded data removed]"
          },
          "metadata": {}
        }
      ]
    }
  ]
}