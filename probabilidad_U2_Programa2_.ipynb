{
  "nbformat": 4,
  "nbformat_minor": 0,
  "metadata": {
    "colab": {
      "provenance": [],
      "authorship_tag": "ABX9TyODrz0Hqt/KUHbTBpsI17iu",
      "include_colab_link": true
    },
    "kernelspec": {
      "name": "python3",
      "display_name": "Python 3"
    },
    "language_info": {
      "name": "python"
    }
  },
  "cells": [
    {
      "cell_type": "markdown",
      "metadata": {
        "id": "view-in-github",
        "colab_type": "text"
      },
      "source": [
        "<a href=\"https://colab.research.google.com/github/LeanyBM/Probabilidad-y-Estadistica/blob/main/probabilidad_U2_Programa2_.ipynb\" target=\"_parent\"><img src=\"https://colab.research.google.com/assets/colab-badge.svg\" alt=\"Open In Colab\"/></a>"
      ]
    },
    {
      "cell_type": "markdown",
      "source": [
        "\n",
        "\n",
        "#**PROBABILIDAD Y ESTADÍSTICA**\n",
        "##Unidad 2\n",
        "###*Programa 2. Permutaciones con Python*\n",
        "\n",
        "Facilitador: Dr. José Gabriel Rodriguez Rivas\n",
        "\n",
        "Alumna: Leany Blanco Muñoz\n",
        "\n",
        "![download.jpg](data:image/jpeg;base64,/9j/4AAQSkZJRgABAQAAAQABAAD/2wCEAAkGBxMTEhUTExMWFRUXGBgYGRgXFx0YGBgXGRsYGBcaFx0YHSggGBolHRoXIjEiJSkrLi8uHR8zODMsNygtLysBCgoKDg0OGxAQGyslICUtLS0tLy8vLS8tLy8tLS8tLy0tLS0vLS0tLS0tLS0tLS0tLS0tLS0tLS0tLS0tLS0tLf/AABEIAOEA4QMBEQACEQEDEQH/xAAcAAABBQEBAQAAAAAAAAAAAAAAAgMEBQYHAQj/xABEEAABAwEEBwQGCAQGAwEBAAABAgMRAAQSITEFBhNBUWFxIjKBkRRCUqGxsgcjNGJywdHwFjPS4UNzgoOS8VOiwiQV/8QAGwEAAgMBAQEAAAAAAAAAAAAAAAIBAwQFBgf/xAA4EQACAQIEBAQEAwgDAQEAAAAAAQIDEQQSITEFE0FRMmFxgSKhsdGRwfAUFTRCUoLh8SMzcmIk/9oADAMBAAIRAxEAPwC/TZ1kAhKiCYGBxOOXHI10Lo9m6sE2m1puHo6r1wpIVwgyOcZ0XVrhzYZcyasWjthQhYJQoo7QIUSjLum8u6BO+JjHjVak2jnwxFScGsyT0t19VZX2+ZW2puCTKcScEkGPLCnTN1Gd0lZ+rGaYuCgAoABQDdic6444hKA0YTGSSZgRhhhxPOkSSd7mOEKdOo5ua180MiwOb0EfiIT8xFTmRa8TS/q/DX6HvoR3rbH+4k/KTRmRH7QukZP2f52AWdG91J/ClR+YJHvou+wOrO11B+7S+l2eOhCCU3VEgkG8QBIzwT/VQrsI8yaTzJJ9lf6/YT6SdyUD/SD71SaLDcldW37/AGsDD91YURxGEDMESMIBEzlUtXVgqUs0Mqf5iihTiiUgnynxiATUaRWpClCjFRk7fiKU4kN3CntgnPdxJ8AEgfiO8UWd7iqE3Vzp/Db9L87+hEmmNJ6BOFBDdlckWmzhJISq/dm92SIgwTvF3nPhSp33KadZyScla+2vf8yPTF4tDKjEJUZEiATIGZHEVF0I6kFu0KYCO0VSYiEgxOOOMHKh36C1HN2UOvXe3+ySpUAkNNgAJVjKzCojvEjeN1L7lCWZpOct2ui29CLClnBMnglP5JFNsaPhprV/i/uelooI2iVAHGO6SPHLrFF77EcxTTVNq/4oftlnAQlV3Zknu3plJEhQBxA3Y57qWL1sVUKrc3G+Zd7W17diUmxIVcCIxRdkmAXLyQVGeF84fdFLma3Mzr1IOWe/iv7Wenvb5lZs+dPmN/M8h5FouogElV5KsQLqbt/KSZm8NwoauyuVHNUu0rWa83e327jS3lKMlWOU5QPDdU2VixUoRjZIsW9ilwFu84qCAlIvScgo304ziYEweWFV/E1roYZKvOnadore709tH8xyz6sWhWN0IH3jj5JBodaKCfFKENLt+n+R/wDhB/22/NX9NLz4ifvej2fy+45Z9UHL3bWm7vukz701DrroV1OLxy/Anfz/ANirLqs8kklTR7JAmTCtxgpih1osWrxSlNJWlvr6fiSGtXbQR27QRyQSB5x7opebHoiqWPoJ/BTXv+vzIzmqrxBlxJxEStRwxmeznl76bnR7FseKUlb4fXRb/iIOp7sd9uZ4mI3eriannosXF6d/C7ewtjVBy8m8tBT6wBM9BhUOuugk+LxcXlTv0H1aqkHslMEKBvEnMdkjs4EK9w51HOKlxRtfFvdNW+d9eqIzuqtoUZU42TxlX9NMq0Vsi+HFKEFaMWl7fcR/CD/tt+av6aOfEf8Ae9Hs/l9w/hB/22/NX9NHPiH73o9n8vuOuaqPFCU3m+yVHNXrR93lQq6uVR4pSU5Ss9bdunuKtmqrqiCFoJCQCTIKiJAOR9W6PCoVaK6C0eKU4Jpxe+m2n6Yt3Vx+6EBTV26BBnvRiodmZnGecZVCqxvcWPEKGbO1K99/LtuMM6pPBQJU3AIJxVlP4aZ14l0+LUnFpJ7eX3JA1dfh0S19ZvlU94EA9nLPxjhS82OnkUPH0nKDtL4fTt6+h5bdWHFYILYF4q3iJAASITkIz30RrJbhQ4lCDvK+1v8AL1/0Lf1cdKSAtOJQUgkgIKRBukDwyFQqq7C08fTUk3F9b7a37jFr1WeWq9fbxCZkqkqCQFHu7yCaaNZJWL6PFKUI5bPd9tr6dew4rVl03u0jFtCMz3k3Me7l2ffUc5Fa4jTVtHpJvps7/cjt6sPonuLkZBak7weAmm50WWz4nRnbdeyZU26zqQsBxpSB1knmFGQTVkXdaM3UKinB8uab+nsIW+nsAAqSiT2sJmDGEwnDLmeNSk9RlSn8Tbs3bby/MaQ8oXfumR1kH8qmxa6UXfz0Y1FSPZC1tkAE+sJHSYnpM1FyIzUm0ug5Y7MpxaUIEkny4k8hRJpK7FrVY0oOctkbHRmjHGHkpQhJbu9tw94qxwGMgTGGUc6yympK73PO4jEwr03Kbea+i6WLbSJc2atjF/CL2WePumqo2vqY6PLzrmXy9bHtgLmzTtYvxjdy/cUStfQirkzvl7dLkZs2jbmQjYRgfWy+M03w5fMtaoclWvn+Q9pMu7M7EJK5EXso3+NRHLf4hKHLz/8ALe3kO2S/cTtIvwL0ZTyqHa+glTLmeTboRLMbRtl3wjY43Y726PzmmeXLpuWzVDlLLfN17DulS9c+oCSuR3uG+OeVRDLf4iMPys//AC3t5Eiz3rib8XoF6Mp3xyqHa+hVPLmeXboQ7EbRtV7QI2eNyM88PdnTSy2Vty6qqHLjkvm69hWly/dGwCSqcb3DlRDLf4gw6o5v+a9vIltTAvRMCYynfHKkZQ7X0IWjjaL69sEBHqXc8z+UU8stlY0VlQyx5d79bhpc2iE+jhJM9q9w3RRDL/MRh1Qu+dfysThMc6QzkDRRtHb24QMRdu+M+GVPPL/KacQqGnJv53PdKG0SjYBBE9q94R4Z0Ry/zBQVC0ubfysTlTGGfOkMyIOiTaIVtwkGcLvDnTzy/wApoxKoXXJvbzDSBtF9GyCLk9u9nmPyojls7hRVDJLmXv0sTXZum7F6DE5TunlSFEbXV9iJokv3DtwkKnC7wwz8Zpp5b/CXYhUc3/De3mIthtG1RswjZYX5zzx90RUxy2d9xqaocuWe+bp2JGkWL7a03UqJBgKymMJ8aiLsyujPJNSu16HPrdot1oJLiYvTGMweBjfvrYpqT0PUUMXSqtqD2IrrZSSkxIzgg+8YUydzRCanHMhNSMWdoS32irFYACUyYKbqQJgYRmADjjlvrWboc6k6uijs93brd/6fYvdS7EkIU7iVHs4gCIxMY4g4cMqpryd7HP4rWk5qm9lr/svTbm9rsr3bi9EHLrlVOV2uc3kz5fMtptck1BWFABQAUAFABQAUAFABQAUAFABQAUAFABQAUAFABQAUAFABQAUAJWsAEnAASegoJSbdkQto3aGryDImQYyKTwIprOL1LnGdCplktfv6GIdSyFG8pS5Em77ZJkDIQPGa1rNY9FCWIlBZUl69iupzdqe1IG91R+zI6r+Y1jreM8vxP+Jl7fRFibEjabW724uzy+FV5naxk5s8nLvpvYfUYxOVQVlUrWOzA3dp4hKiPMCKs5U+xtXD8Q1fL9CzacCgFJIIORGINVtWMcouLsxdBAUAFABQAUAFABQBE0hpFtkAuKuzlgST0Apowcti6jh6lZ2grjtktSHEhaDeSd//AHlUNNOzEqU5U5ZZqzHqgQKACgAoAKACgAoAKACgAoAStIIIOIOB6UEp2d0NWSyobSEIF1I3dcTnUttu7GqVJVJZpu7OZO949T8a3rY9lDwoTUjBQBvtU0kWVE7yo+F41ireM8txF3xMvb6IfUh/0kGRsLmIw73xnKo+HL5lKdHkWt8d/kQddHlJYAGAUoA9IJjzAp6C+I1cKgpV7voronsaIYDYRs0kRmQCTznOaRzle9zLPFVnPM5O5D1Vsy20OJUCEhw3b2ccen96aq02mjRxCpCpOMovWyv6l5VRzyPpF2604qYhCj5A00Vd2LKMc1SMe7RA1WKjZkFRJJKsSZMXjxpqts2hp4gorESUV2+hb1WYgoAKACgDMwly2uKWAUMowBxGQ/VVX7U1bqdV3p4OKjvN/r8hWqLgRZlrWbqb6lTwEJHxFFZXkkg4nFzxChHV2S+pa6It6nklZRcTPYnNSeJG6q5xyuxixNFUZKN7vr5PsT6QziHVwkngCalEpXdim1QWpTF5SiolaszPDjzmrKytKxv4nGMa2WKtoiztNvbQpCFKhSzCRx/SkUW1dGSFGc4uUVotyTSlQUAFABQAUAIeBuqu96DE8YwoRMbXV9iJodDoaAfMrkzllOGWFPPLf4S7Euk6jdJfCc5e7yup+NbVseuh4V6CakY8oA6Dqu8VWZBJk9oeAUQB5YViqq0jymPgoYiSXl9CYdIN7XYz2yL0RhHXjS5XbMUcifL5ttL2IusTjIZUHpg5Ad69mLvOmpKWbQuwUarqp0t1+HuVGhHbaAkBEt4QXMCE+c5cjVk1T9zbi44NtvNaXlqrmqNZzjmW0JpZx21KBc+rIUUpIwIBgRzjHwNaKkFGG2p2MXhYUsMmo/Fpdk3W+zILJcVN5Hdx3qKQcN9JRbzWKOGVJxrKEdnv7DehdBJSlp0LcCoSopCuySRMERlUzqatWGxWNlKU4OKau1e2pYaX0uhgAEFS1d1AzP6CkhByMuGws67dtEt29istOsjraZcsykE92T2TyJjAxNWKkm9GbKfDqdSVoVU+/c0LS5SDlIBjrVDOXJWbRRu6cdcWpFmaDgTmomEzyxHxq5U0leTOjHBU4QUq8rX2XUofTFD0qU3XXClF3mSbwHh8RV2VfD2R0eTBqlZ3jG7v6GitdyzWQJUgLAABSclKJkzymTVCvOZy6ebFYq6dr637ItrMuUJMRIBjhIyqt7mKatJozVl0uty23Q5DcqSE4QqARhzJxmr3BKne2p1qmEhDB5svxaO/a5Z60WZCmFKWD2ASnGO1kJ441XSbUrIyYCpONZKPXR+hX6C0Ckttu7RxKjCiEqgHGRu4RT1Kju0acZjpcydPKmttVqWFrtSDammS2FKgqCz6mZww+78KRJ5G7mWnSmsPKopWV7W7/q5O0hbUsoK15DzJ3Ac6WMXJ2RRRoyrTUI7lGrWF9IDqrOQ0YxnGDkf2Kt5UXonqdBYCjJ8uNS8/TQvzakBG0JhF29PKJqmzvY5qpyc8iWuxSp1iWuS1ZlrbHrZE9BHuq3lJbs3vAQhpUqJS7EzQelvSNobl0JIAk4kHjwNLUhlsUYvC/s+VXvdFk4sJBUcgCT0GdVmVJt2QxYLah5AWiYM5iDhhTSi4uzLK1GVKeSe5zR7vK6n41uWx7CHhXoJqRhyzOBKgSLw3jiDgRyw31DV0V1YOcGk7M3urTgUwCBAKlwMMBeMDDlWOqrSPL46LjWabu9PoiebKi/tLovxF7fHCku7WM/MnkyX03sUFuAXpBtK+6lMpByJhR+I91XR0pto6VK8MDKUd27P00NLVByio1ktlxq4nFx3sJAzxwJ/fEVZTjd3eyNuBpKdTNLwx1ZB0xonZsNrbwcYAMjeBir3yfPjTwneTT6l+FxXMrShPwz/SI2sulUuWdsDvOQojgBIP/t8KalBqT8i/AYWVPESb2jp+vY1TYCUjgAPICs73OK3dmb0G4H7W68cQkAIncDIB8gfM1fUWWCidbFxdDDQpd9X+v1sO67ugMoTvUufAAz7yKigviuJwmN6rl2RM1ituxs5gwpQuJ8RifAT7qSnHNIowNHnV1fZasXq3Zgiztx6yQo8yrH4QPCiq7yYuOqOdeV+jt+BT6OQh63uL9iSnmUwifz8qtk3Gmkb68p0sDCPff6jmu1qF1DIzJvHkMQPMk+VRQjrcThNN5pVeiVi305bNiwojOLqfxHAR0z8KqhHNIw4SlzqyT23foVdr0HFkRdwdaF8EZ3u8ofp0FWKp8fkzXSxt8S2/DLT22RH0xpkOWNM99yAR+A9o9JA86aFO1T0LsLg3DGPtH81oaTRiYZbHBCR7hVEt2cqu71JPzf1M/o20h3SC1jJKCBzi6mfeaukstOx069N0sDGL3bv9RWsryV2hhknC8Cobu0QAD4T51FJWi5C4GEoUKlVdrI0Vos6VpKFiUnMVSm07o5cJyhJSi7MzmtdoTDdmRhJTIG5OSR+fhV9FPWR1eG03eWIl0Tt69TRIQltECAlI8gKo1bOU3KcrvdlFqWqW3VcXCfcD+dXV90jpcVVqkI9ok7Q1tU/tVEDZ3ilGGaQMSeIP60k4qNl1M2KoxoZYrxWu/UsLPZ0tpCUJCUjcKRtt3ZmnOU5ZpO7OYPd5XU/Gt62PZw8K9BNSMFAG91R+zI6r+Y1jreM8vxL+Jl7fREhVne9JC7/1NyCmfW6fnS3jlt1KVOlyMtvivv5DOndEF0pcbVddRkeIzg8P+6mnPLo9izCYtUrwmrxe5ETa9Id3YoJ9qRHXv02Wl3LnSwO+d+lv8EjRuiFhZeeXfdIgeyjpUSmrZY7FVfFRcOVSVo/N+pBfs2kFhTSigpVgV4DDwx91OnSWpphUwMGqiTuun6+44nVRIZUm9LhiFEYCNwHDjUc55r9BXxSbqqVrRXQ89DtriQy4pCEZKWMVKH76UZqad0HNwdOXMgm30T2X69wd0Q8w5tLKAoFISUKPDfiROU55zQpqStMI4ulXp5MRe97pobteg330qcdUA5EIQO6N5nPE1MakY6IaljaOHkoU03Hq+rFjRD9oM2mEhKSlCUme0fWME/Go5kYeEX9qo4dWw+t3dt9ux4zZbclGwFwIGAcnEJ5Yz7vGhyp3zEzq4KU+a733t5nrmgXGVNuWYgqSm6oKwvTmf7chQqildSCOOhWjKGI2burdPITaNXHHG1rWoKfUQZ9UAeqPD4CpVVJ2WxMOIQpzUYK0Fp5vzJFlsNoecQu0hKUt4pQMbyvaMEilcoxVolVStQpQlChduW7fRdkNWpq3kqQChSVSL2AhJ94w5GpTpbj05YFJSd0108/16Htm1USG1BSry1CAqMEb8B1z/Kh13fQKnFJyqKUVZLp39RLditxQGCpCUAXb4Pau5QN+XIdaM1O+YmVXBKXNSbe9ulwd0M6w4lyypCoRdUlRieJOIzw8qFUUlaQRxlOvBwxDa1umvoC9XFrbUta//wBClX724Rknpz6cKOak7LYFxCMJqMV/xpWt+Y4m0aQi5skTlfJEdYvfl4VFqW9xXTwN82d27W/wId1ZKmlFS7z5IVfOUj1RwH9uEVKra+RMeJZaitG0Fpb8/U9Nntrydk4ENoyUsEFShviCc+govTjqiM+DovmU7t9E9l+vcYToi0t7Rlq7snD3ycUg4EZzMYZeVTzIO0nuWvF4eplq1L5o9OjNCxZNm1s28ISQDz4nxxqlyu7s5c6rqVM8+rG9DsuoaCXlXl4yZnCcMd9TNpv4RsTOnKo3SVkc8tUX1xgLx3zv4762x2PWUb8uN+yGqksJT9kCUkgnshEkiEkrAICTOcGegJpVK7MtOu5SSdtb+unc2eqP2ZHVfzGstbxnB4l/Ey9voiadJI2wYxvlN7LDpPGkyPLmM37PPlc3pexMpSkKACgAoAKACgAoAKACgDxRjE5UAV2htPWa1bQ2d5LobVcXdOSs/EcCJBxg4UAWVADVptCG0lS1pQkZqUQkDqThQBmLR9IujwSlp1VpWPVszS3/AHtpKffQSk2Nfxu6r+Xou2kcVhpv3KdmpsxuXLsefxs8nFzRdsA+5sXPcl2aLBy5diXo7X2wurDSnSw6cm7ShTCj02gAUehNQK01uaeggKACgAoAKAEOuBKSo5AEnoMaCYpt2Qxo63JeQHESAZGOBwMU0ouLsyyvRlRm4S3Oavd5XU/Gty2PYQ8K9BNSMWHpvZRKzAQUqRjBgqCcMsruPKq8u5hdD4pWjq3dPttfz7mt1R+yo6r+Y1nreM4vEv4mXt9EWuwTev3ReiL0YxwnhVd3axizyy5b6dhyoFCgAoAKACgAoAKACgCLpS3os7Lj7phttClqMTCUiTAGZoA4hrdrtaLeHAlCk2VtJUpoKgFIEza3EnfuYQZPrGpL4U9HK17frX7F3oLQjuj7PZbbZ21KeS2DamEDF5pw31ADe60VdmNwKeVFtAlS+FNGkd0vpO1/yW02Bk+u8A7aSPutg3Gz+InpRYiNGT3GmtTLOVBy0ly2Oj17SsuAfhRg2kdE1Ni+NKKNCy0lICUpCUjIJAAHQCpLLCqCQoAYt1hbeQW3W0OIOaVpCh5GghpPczyLHadG9uxFT9lHfsa1FSkJ3myrOII/8apBxiDFQ0Zp0esTa6E0uza2UvsKvIV4EEYFKhmlQOBBpTOT6ACgAoA8ImgBDLKUAJQkJA3AQKltvcaUpSd5O7OeGzBV5ZCsSoT2W2wZw7Rz6ATWy9tD1CquFoJrZd3J+3+SHs/vJ9/6U5p5j/pfy+4ipLDe6o/ZkdV/Max1vGeX4l/Ey9voiQbI76SHNp9Vci5Jz6ZeNLmWW1tShVKfIyZfivuWNIZwoAKACgAoAKACgAoAxP0wWkp0cptMXn3WWQCboN5YUoE7hdSqTuEmgaKu0jlbFjbtDtmsgfQ4VPJlmziLM00iXHcR/NWQmLyjOO6mZtq5WlFSu+y2X3O3VIwUElJpjW2xWY3XX0X8tmj6xyTkLqJIJ50XEdSKKN/X9RcS0zYXlLWFFO2KWAUpzUR2lBOWYGdBKzuSio6siaW1x0gzdmz2W+4brbQccccWd8AJSIGZJwFDuTUp1YWva72XU90nrjbrMgKdasipwShDjocWr2UC4bx6UO6Jq06lNXlb06k0a+lpKVWyxusJVAvJUh1IJyBCSFzyCTR6izzwV5xsaXRGmrPaUlTDqHAMwk9pJ4KSe0k9QKAUk9iktq//AOZa/TUSLLaFJRa0eq2swlFpA9XGErjMEHE1DRnrU/5kdGBpTOFABQAh5JKSAYJBAPAxgaETFpNNkTQ9mcbaCXF31CZMk5nDE4mmm03dF2JqQqVHKCsuxzl4dpXU/Gty2PXQ8K9BNSMO2RkLWEkkA5kCY3DLmQJ51DdkVV6jhByW5u9WEgMADEBbgB4gLVFY6viPM49uVZt9l9ESDpNO3DEG8U3p3dKjI8uYrWHlyed0vYnUhnCgAoAKACgAoAKACgDl/wBMr19yxsEs3U7a0L25+qAQkNpKwM8XFYb4qUXUI3l099jK6r6ZbYtPpNqUssJb2bDiLKptgFagXLoSCQOykBRzk1JonJ5sz26O1kdM0XrBZbR/ItDTnJKxe8U5jxFSSpp7FD9JyXBZkuhTuxbWDaENKKFLZOBMpg9kwYkAiZoZE7aN7dTN6G1Lt6ng81YbOw2kfUpdcACZzcUGQorcI3qIj30tytYiMZ5oxWm367mhs30faQ2y31W2zocWEpN1hTgShOSUXlpgSZPE0ZmH7ZUzua3Ypv6NbYl5T40k2p1QCZVY+6keqj67sjjGdF2KsVUU899SI3qDpFl1b4XZbW6r1nL7S0p9luLyUJ5CKEx6eLlGTm1d+Zn7TtrGpVp0lZH1PpnZqhKrOgTglpSFFLU71L7Xwqbl1PFwvnqXcunb2PHbI2EenWi0FL7kBpVlV3d6W2bv84nfekHkKm3Vl0qUHHmVHq9rfRdzQaJ1gW42LJpVoI26S2l3AIcvSLjkYNPRumCcoOFHqZ5RnFWqLc130bW5arKbO6SXrI4qzLJzUG42a+d5soM7zNIYZKzsauggKAEPOBKSo5AEnoMaETFXaSI2i7el9sOJBAJIg54GN1NOLi7MtxFCVGo4SObvd5XU/Gty2PXw8K9BNSMSdHYqKfbQpPjEp/8AYClltcz4nSCl2af5P5M22qiCLMiRE3j4Ekj3VkreNnneIyTxMreX0LTZpm9AvRExjHCeFV3MeZ2t0F0EBQAUAFABQAUAFABQBlNcdRGLetDylrbebEIWm6pIgki824ClWJncedBKbTujC6e1O0m2vaqbb0iED6pKVbINqHrqZVgs5ZKJ4RU5jV+1ybvNX7dvwMZbwypakWgLS7KVurdbu2layYS1ZWj/AC0zhe/7qdBs1Oe/u+r8kuhbWWz2rtWdl20F50QmxIXt22miIPpCnryUAjOCOU4QbBUjGmnd69Fvb1O0amaMes1iYYfcDjjabpUmYgE3UgnFV1MJnCYypTEXVABQAUAeKAIg4igDA6wfRy2HBatHpQy+iTsiPqHJ7wj/AAVmO+iOYM1KdiylVdOSkjnVrtCrStTdpaW4+CpAsIlCGSMNo+vJWBBCsoPZFNe5v5vP8Wr6RWy82zU/RE483b7Ww64HjsWCtxMqAW32EhZ/8l1UY4kIBpWjDWg4Syt3Ot1BUFAAaAEIbCRCQAOAECgltt3Zy57vK6n410Fse0h4V6CakYlWZu6UrK0JghQkycDOSAT5xSt30M1WeZOCi3fTsvxdje6GA2eBkXlEYRgSboGOURWKe55fEXz6+X01EqsC/SQ9tDcCLtzHP4c6nMstrDqtHkcvLre9yxpDMFAEDTOmGbK3tHlhCchvUo8EgYk0spKKuy6jQqVpZaauzmmm/pOfWSmzIS0ncpYvOHnHdT07XWs0sQ34Tv0ODU4q9V3fZbff6GWtWsVsWZXanieSykf8UEJ91UupJ9ToQwdCPhgvw+9zT6O0i8G2yHXe4n11T3RnjjXPnVmpu0n+JXLDUne8V+CLmxa12hHeIcHBQg+BH5zVtPHVY76mOrwuhPw6Py+xrtDaeatGCTdXvQc/D2hXUoYmFXbfscXE4KpQ8W3cta0GQKAIWlNEsWlFy0Mtup4LSFAcxOR5igBrQegrNY0FuzMpaSTJu5qPFROKj1NAFlQAUAFABQAUAFAGX1r1LbtjiHQ65Z3QLi3GoCnGTm2ScscQrMY8aBozlHwsudC6HYsjSWbO2G0DcMyd6lE4qUd5ONApPoAKAEPIJSQDBIInhIzqUTF2aZE0PY1NNBC13yJxx3mYxqZyzO6LsTVjVqOcVZdjnlqbKVqB4nmCJzBGYrdF3R6ujNSgmhqpLQoA6Fqy5eszZ5Ef8SU/ACsVVWmzyePjlxEl+tdRw6UHpAs90yU3r27986jJ8OYRYd8jnX0vaxYUhnK7T+mG7Iwp5zJOASM1KPdSOZ/U7qWclFXZdh6Eq9RU49ThGnNLu2p4uvGTklON1A9lI3D3nfWCc3J3Z7LD4eFCGSHu+5BSOHxpS5s9UZzP78PiaCFpsa+w/wApv8CPlFc2p42UvckcvH98qQXzR6lZSQQSCDIIORG8EVKbi7oGlJWep0HVjTe3TdXG1SMfvD2h+f8Aeu5hMTzY2e6PM47B8iV4+F7fYvK1mAKACgAoAKACgAoAKAIukNIssJvvOIbTxWoCek5npQWU6U6jtBN+hk1/SVZjaGmGUOOlxxCL8XEi+oJkXu0qJnKOdPkdrmt8Oqxg5zsrdOptqQwBQAUAIecupKs4BOHITQiYq7SIuidIB9oOBJTJIg45GM6accrsXYmg6FR027nP7Ra1kqCiFCT3gCRjuJEitqij1FOhBJOOno39CLTGg9oA3uqP2ZHVfzGsdbxnl+JfxMvb6IuIEzvqowHtAHHPpT0uXrVsQfq2MI4uKEqPgIH/AC41jryvK3Y9RwfDqnS5j3l9P1+RjLm/L/sDDjmKoOtfWx4agACqkGjZWH+U2fuJ+UVzanjZne9mPz+/ypLkWPBQSSdG2wsupdHqnEcR6w8RVlKo6c1NFNeiqtN031OqNrCgCMQQCOhyr0aaaujyDTTsxVSQFABQAUAFABQAUAY/Xi3MIW0lLDb9tWLrKVgEIBzccnBKBE8/Mh4xbNuGc1CTc3GHXpfy9SiZ0M2zbrCFOpdeUp60Wh4kdpSUBLYHsoBVAFM8zWxY8Sp0aklpFWSXq7/jodMSZyqo5x7QAUAFACUgbqAOWvd5XU/Gugtj2sPCvQTUjBQBvdUfsyOq/mNY63jPL8S/iZe30RJVo0+kh++YCLt2PznLwpc/w5ShYhcjlZet7k5aoBJyGNIZz5gtNsLji3SoguKU4YIIlaiSDw350sop7np6cpU0lF7HibVxjw/tVEsOnsaYYqS3Vx5FoScJg88KqlRkjRGvCXkPTvw+NVbFq12NjYf5Tf4EY/6RXNqeJlD3JrdlUrJJ8cPjVUpxRW6sY7slN6N9pXgKplX7FUq99kS27MlOQHXP41VKcn1KXUlLc2mgnJZTykeRw90V6jh03LDxv00/A4GLjasyfW0zhQAUAFAFBrNpZaSizWfG0vSE7w0j1nV8AN3E8alGvC0IyTq1PBHfzfRL1+SKmz6Qe0atLVrcU9ZVmG7SrFTaj6j/AC4K/LuzuaJU6eLTnSVprePfzj9i21m1jFnCG2U7a0vYMtA5/fVwQM55dSISuZcPh+ZeUtIrd/l6mZ0tq/6NZw66va2p51JddO/sq7COCBw5dAN2Cd6j9DBxevzIRjFWinovbr5lC8kcK6qOAn0NT9H1vcLi2SolsIvAHG6bwGHAY5VzsfTikprc6eBqSbcehuq5h0goAQ8i8lSZiQRIzEiJqVoyYuzTImh7BsGg3evQTjEZmcBJqZyzO5dia3OqOdrXOcvd5XU/Gty2PXQ8K9BNSMFAG91R+zI6r+Y1jreM8vxL+Jl7fREk6SPpIYuHFN69P5Rlzmly/DmKFh/+Dm362sSramW1gb0qHuNIULc+Wm8hmMo5frnUHpmC5nEic8Mee6gAUct2H7/SgCRZL4MATI344biKlU1N2M+LxkcLSdVvb5vsdJ1Wt6HEXbqQtAiAPVyBE48vLjXA4rhZUKmdeF/JnP4XxV42DjN/Evp3+5fVyfM6fkeUgx6B7x+zTpW9xW+xqNXR9T/qNek4WmsOr92cjGtOq/YtK6JkCgAoArdP6YRZWS4qSZCUIHecWe6hPMn86C/DYeVepkj7vol1bIeq+iFthb9oN60vwXDuQn1WkcEp9544VJbi68Z2p0/BHbz7t+bGbdpttxK21shaDKVJUcD1EVwJ8cySccmz79vYup4GaakpWe5Q6rostjcUoIWSvshxxd8tt+q2nAQgYc/IU9PjsZyUZRsu9zXiqFetDdadErXff1LvX4/UN/5qflXXqMB436HlMf4F6mDerro46L/6O/tK/wDKPzJrDxD/AK16nRwHjfodErknVCgBDy7qSqJgEwMzG6hExV2kRNEW4vNBwpuyThnkY4CnnHK7F2JoqjUcE7nOXu8ep+NbVseuh4V6CakYmPIb2SDJKoKTdEC9N7tE4nBQGA3Z0ivdmSEqnNkraaPXttp7o2mq671mQYA7wwwGBInqc6y1VaR5/Hxy4iSv2+haXhMb6rMYqgD5t1r0Yqy2x5mLovquxkUKhSc5xukdDUHoKE1UpqRVASMCmBEzxkgbuf7wFBceqahV2UnECUyRjvEjGghySjdlgygpESeOOPQY7scq2U4ZUeB4rxB4ur8PhW33/XQlaOtq2VpcRmkzjkeIPERNFalGrBwlsc/D150JqcN0dJsdrDiQsCMSCk5pUO8k8wa8LiaM8PVcJf7PouFrwxFJTj/lPsPk1Q2r6F6vbU8oA2mjmbjaU7wMepxNevw1Pl0ox8jgVp55uRJq8rCgBt15Ke8oJniQPjSynGO7IbS3Ku1WazOPtvrcSVNBQQCsXAVRKo9rdNRzYd1+JdDEyhTlTi1aW/fTp6FshYIBBBByIxBpk09UVHO3u8v8aq8RV8Uv/T+p6in4Y+iIT2+qXsaYmn11+ys/jR8iq+kcN3/t+x4LiW3933MQ9XaRxUX/ANHf2lf+UfmTWHiH/WvU6OA8b9Dolck6oUAFACUqBEjEUA1Y52hBQHSsKAUAkDK8VG8CJBBACTW3e1j1MpKo4KDV1r6WVvzK+rDbqFBJvdUfsyOq/mNY63jPL8S/iZe30RJOjB6QLReMhN27u8/ypc/w5ShYl8jk20ve5YUhnOd/S3qyp5sWtkS40IcSBN5rEzG8oMnoVUG/A11GWSWz+v8Ak4wnMQTO7dHAzUHYJ1kZ9cjmAR7xyrRRh/Mzy3HuI2//ADU3/wCvt9yQT++VaDyYoqkkmB0GGfuoBu5bauaX2DkH+WuArkfaH7y6VzuJYL9pp/D4lt9jq8K4h+y1fi8D3+50AHxrxe2j3PeaPVbFpoOwlxd891PvO4V0eHYZ1ameWy+bMeMrKEcq3Zqa9KcgKACgDH6/nFn8LvuCTXH4qr5F6mfEdDFoN7OuK0kZTc6hLN1xEkpSUlIO69emOWArtcJqykpReytb3uasPJtNFI/3l/jVXn6vil/6l9T2FPwx9EQnt9UvY0wNPrr9lZ/Gj5FV9I4bv/b9jwPEtv7vuYh6u0jjIv8A6O/tK/8AKPzJrDxD/rXqdHAeN+h0SuSdUKAEPN3klJ3gjDnhUp2Ji8rTIuibAGGw2CVQSZPMzUzlmdy7E13XqOo1Y5+9alXS3hdClHjiTnyyAw58a2qPU9RToRzKp1siNTGgKAN7qj9mR1X8xrHW8Z5fiX8TL2+iJCrcv0kM7M3Lt6/jn8OVLlWXNcpVGPI5mbW9rFjSGYKAOV67fRnKy/YxgTK2BhjvLX9PlwqYpN6mqXEKsKDUVeXT/PoYJxooUQoFJGaciDzBy3YVuW2h4mebM3LfqJT5dcaBRQMdccZ/fKgkTew5/wB/fQRc6VqBo20Otw6hSGhFxSsFKT7IBxgbjl5Vwcdw2FWspxdr+I9XwrG1YUMk1t4X+Xt0OjMtBICUiAK2QhGEVGK0LJScndi6cgKACgDH/SBmz+F74JrkcU/k9zPX6GKs9cWRlZuNQ/8AG/2//uurwfeft+Zow3Upn+8v8aq4dXxS/wDUvqeyp+GPoiE9vql7GmBp9dfsrP40fIqvpHDd/wC37HgeJbf3fcxD1dpHGRf/AEd/aV/5R+ZNYeIf9a9To4Dxv0OiVyTqhQAh5ZCSQJIBIHEjdQiYq7SZE0Pa1OtBa0XCScMdxiccaacVF2RdiaUaVRwi7ruc5e7yup+Nblseuh4V6CakYUWzdCtxJA5kRPxFRfWwqmnLL1N3ql9mR1X8xrJW8Z5jiX8TL2+iLbaCbsiYmJxjjHCqjFldr20F0EBQAUAVemNX7NaR9c0lR3KyWOikwfCmjJrYpq0KdXxIy9q+i+zmbjzqBwN1QGWWAO7jVirsxy4ZTezaGmfosantWhwj7qUp+M1PPfYVcLh1kzQaJ1LsdnIUlq+ses4b5niAeyDzAquVSTNVLB0aeqWvmaGkNQUAFABQAUAY/wCkDNn8L3wTXI4p/J7mev0MVZ64sjKzcah/43+3/wDddXg+8/b8zRhupTP95f41Vw6vil/6l9T2VPwx9EQnt9UvY0wNPrr9lZ/Gj5FV9I4bv/b9jwXEtv7vuYh6u0jiov8A6O/tK/8AKPzJrDxD/rXqdHAeN+h0SuSdUKAA0AIbcChKSCDvBke6ixMk4uzOZWhkgqOYk4gg7+WVb09D2FOpFxS/x9RmmLiem0NhoAiV3CnD1TfWonHiCkdJx412eYwulUdZtbXT9dEvlqzZ6svFdnQSAO8MMBAJArNVVpHBx0FCvJLy+g8dGJ24fk3gm7G7rUZ3lylaxEuTyel7k6kKAoAKACgAoAKACgAoAKACgAoAKAKnWLQwtCMDC0hV0nLtCCDyy8qy4rDKvFd1sV1IZkZZrUm0D12vNX9Nct8LqvqijkSNHq1oddn2l8pN67F0ndemZA4ituAwc8O5ZmtbfK5bSpuF7kW36tKK1FtSbqjMKJwJzGAxFYsTwiUpt02rPXXzO3R4goxSmtVoQXNU3j6zfmf6azPgtbuvn9jTHitJdH+vc0GldEB9gNKMFMFJ4KAjxGYr1WGqOi0/Kx5zEUlWTXujKualPn12/NX9NdP9vh2ZzFw+p3Raaqatu2Z1S1qQQUFPZJJmUneBwrNisTGrFJI14bDSpSbbNVWI2hQAh5sKSUnIgg9DhQnYmMnFpoj6MsCWGw2kkgEmTniZ3U0pOTuy3EV5Vpuctzmz3ePU/Gty2PXw8K9BNSMFAG91R+zI6r+Y1jreM8vxP+Jl7fREhVrd9JDez+quzfg59cvClyrLe+pQqVPkZ83xX28ixpDOFABQAUAFABQAUAFABQAUAFABQAUAFABQAUAFABQAUAFABQAUAIeUQlRAkgEgcTGAoRMUm0mRND2lxxoKdRcUZkQRkcMDiKeaSdkXYmFOnUcabuu5zu0JIUoEEGTga2rY9bSknBNDdSOFAGu1ItguraOYN4dDgfI/Gs1eOtzgcXo2mqi66Gk9ITeuXheibs4xxiqLO1zk5JZc1tO4pawBJIAG84CoISbdkCFgiQQQd4xFANNOzPA6m9dvC9nE4x0osGV2vbQ9ccCRKiAOJMCgEm3ZHqVAiQZHGgh6CUupJKQoEjMTiOoosTlaV7A44EiVEAcSYHvosCi27IUDNBAlLqSSAoEjMA4jrwosS4tK7QOupSJUQkcSY+NFgUXLRIXNBAhDqSSAoEjMAzHXhU2JcWt0DrqU95QTuxMY+NRYFFy2QuggQ26lU3VAxgYMwecVNiXFrdA46lMXlATgJMSeU1FgUW9kLoIENPJV3VBXQz8KlqxLi47oFupBAKgCcgTE9ONRYFFvZC6CBDTqVCUqChxBn4UWsTKLi7NAp1IIBUATkCcT040WBRbV0hRMYmggi2i2J2RWghUg3bpGJxyJMcfKmS1sy2NJ51GSt3vf/Zzq0LQTKb0kySojGeQAityuespRnFWla3lf8xmpLhRbMTBjjGFRdC543tcfsTi2yHkmClQA5yCSOkDHqKiST+FlNaMKv/DJbq/obLRi2LQtL4EOpEESZGYy3jE41llmgsvQ89XjXw8XRfhZaW2yJdQULEpMTjGRkZcxVcZOLujLSqypTU4boLHZUtICECEjLGczJzok23dkVakqknOW7GEaKaDxfCe2d8mMoy6U2d5cpY8TUdJUm/hHrfYkPIKFiU4HOMRllURk4u6FpVp0pZ4bi7LZ0toCEiEpEDfUN3d2LUnKcnKW7IzGimkOqeSntqmTJjHPCmc21YsliakqapN6Ic0jYEPJuOCRM4GMR06mojJxd0LRrzoyzQ3HrOyEJCEiEpAA6Cobu7iSk5ScnuyNZdFNNuKdSmFLmTJOZkx40zm2rMtqYmpUgqcnothWktHNvpCXASAZEEjHLdURm4u6IoYipRlmgyS02EgJGAAAHQZUpU227sh2HRTTSlKQmCrPEnfOE00puSsy6rialWKjN6LY90loxt8AOAm6ZEEjPPKiM3HYKGJqUG3Te5MSmBFKUEPR2immSotgi9E4k5TGfU00puW5fWxNStZTewxpqxtOFG0QtcTF2eUgxxgU0JNbDYevVpXyNK+4+q2gyLiyIPqnEfvClylXLa1uiFYG22JDbTgkgmQTluGeMHCmk3LdmitUqV2nUknY8tzbTqkOLaclOWB3HfBympi3HRMKVWpSi4wkrPcluW0FBCm1GRBAB34HnHOlUdSlQaldNEHRl1lu620sEkKMpUeRjGchh500ryerL685Vp3nJP8AAXa22nFodU04VpiIBwiVCRO4/nwoTaTVyKdSpCEqcZKz3J9oeQppW17KCCFXsMD+91Ik76FFOM1UWTV9LGItelYGzY7LInBQCiqTJKrwPlWtQ6y3PR0sHmfMraz/AAt5KxBas6lRCSZVdB3XuHKnbSNcqsIXTeyv7CvRvvo/5f2qMwvO/wDl/gLbtt1MBJBiJC1jxgKjwihx1uJLD5pXb+S+1zxs/VjLsuSQcoUEwTxHZM9aOoS0qPzj9L/ckWm1pStBbSAEJyCzgpRKjCkwTmB4b6VRbWpVSoSnCWd6t9UtlotHcm2PWZ8Eg3VT3bwyJIzIjCJxPKldGJnrcMo2urrv+Hb1Hn9bXAohKUFIOBhWI450qoK2olPhEHFOTafsI/i972G/JX61PIiP+56X9T+Qfxe97Dfkr9aOREP3PS/qfyFN61vqISG2ySYAxxJy9ah0IrqLLhNGKcnJ2Xp9h60azvN9lbaL+cYwBzxzpVRi9mVUuGUqvxRk8v6+RH/i972G/JX603IiX/uel/U/kH8Xvew35K/WjkRD9z0v6n8h9Gt6oEoAM9qJIjljnlUcjzKZcHs3aWnQ9b1uMC8kThMA+0ZjHcmM95qHQIlwjV2ff6fcdc1kXDd3Zm8SFGFQnK73iIkceBxqFR3uVx4dG8s11ZXW2vfa/Uaf1kfSq4EtrJEi6Fn88fCmVGLVyynw6hOOZtpedhVq1pUEphKb29KgoHIY8sZ3nDhURopi0uFqUmm9O6t+tvQbs2tbiiQoNpMdk4xPA9rCRv451LoLoWVeFRirxbffuLtus7qbsNBMz3gYPApIMEEcJqI0U+olDhlOd7zv6fZ6kb+L3vYb8lfrTciJo/c9L+p/IP4ve9hvyV+tHIiH7npf1P5B/F73sN+Sv6qOREP3PS/qfyJQ1tOEpSJHM3TJBJ4iIMAcppeQZnwl3dnt8/T6DL+tjgUbqW1DcYUD4yc6lUF1LafCYOPxNp+w3/Fz3sN+Sv1qeREs/c9L+p/IQ5rY+RgEDnBPxNSqESY8IordtlRbLa46ZcWVcJyHQDAVZGKjsb6WHp0laCsMUxcSLNaygEJAlUhROMpPqxu659KVxuZ6tDmSTk9tvXuRbtMaBVAHlBB7QSeGgGe0AFABQACh7Cy2BWZ6n40BDwoKBgoAKACgBQ7p6j4KqOor8S9H+Qqx99PWolsV4j/rZYae/wAPofjSUupkwH83sVdWnRPR3R1NR1K142eVJYFABQAUAFABQAUAFABQAUAFAH//2Q==)"
      ],
      "metadata": {
        "id": "WgT5h58BPVea"
      }
    },
    {
      "cell_type": "code",
      "execution_count": 6,
      "metadata": {
        "id": "IlwFyFV6PB0w"
      },
      "outputs": [],
      "source": [
        "import math as mt # Para utilizar factorial\n",
        "from itertools import permutations\n",
        "from itertools import product\n",
        "import numpy as np\n"
      ]
    },
    {
      "cell_type": "code",
      "source": [
        "mt.factorial (7)"
      ],
      "metadata": {
        "colab": {
          "base_uri": "https://localhost:8080/"
        },
        "id": "8kR9ZBcwPgTp",
        "outputId": "1f2b8699-ef0d-4a29-992e-5c0cf9d6354f"
      },
      "execution_count": 7,
      "outputs": [
        {
          "output_type": "execute_result",
          "data": {
            "text/plain": [
              "5040"
            ]
          },
          "metadata": {},
          "execution_count": 7
        }
      ]
    },
    {
      "cell_type": "code",
      "source": [
        "mt.factorial(4)"
      ],
      "metadata": {
        "colab": {
          "base_uri": "https://localhost:8080/"
        },
        "id": "ldmV9bRRPgtn",
        "outputId": "48b3e990-93da-4cc3-9040-f35eb6173d69"
      },
      "execution_count": 8,
      "outputs": [
        {
          "output_type": "execute_result",
          "data": {
            "text/plain": [
              "24"
            ]
          },
          "metadata": {},
          "execution_count": 8
        }
      ]
    },
    {
      "cell_type": "code",
      "source": [
        "5040/24"
      ],
      "metadata": {
        "colab": {
          "base_uri": "https://localhost:8080/"
        },
        "id": "E-81rrukPm-r",
        "outputId": "a04574cc-3306-4484-990a-f47c4b4711b4"
      },
      "execution_count": 9,
      "outputs": [
        {
          "output_type": "execute_result",
          "data": {
            "text/plain": [
              "210.0"
            ]
          },
          "metadata": {},
          "execution_count": 9
        }
      ]
    },
    {
      "cell_type": "code",
      "source": [
        "nombres = [\"a\", \"b\", \"c\", \"d\", \"e\", \"f\", \"g\"]\n",
        "n = len(nombres)\n",
        "r = 3 # ¿cómo agrupar?\n",
        "\n",
        "Pr= mt. factorial(n) / (mt.factorial(n-r))\n",
        "print(\"Existen \", Pr,\" posibles permutaciones sin repetición del total de \",\n",
        "      n, \"nombres \", \" en grupos de \", r,\" en \", r)\n",
        "\n",
        "print(\"Aquí las permutaciones\")\n",
        "permutaciones_nombres = list (permutations(nombres, r))\n",
        "\n",
        "# Imprimir las permutaciones\n",
        "for permutacion in permutaciones_nombres:\n",
        "  print(permutacion)"
      ],
      "metadata": {
        "colab": {
          "base_uri": "https://localhost:8080/"
        },
        "id": "79lOgc87P7w0",
        "outputId": "23b0cfd3-04da-4f61-9878-69be9afe1d82"
      },
      "execution_count": 10,
      "outputs": [
        {
          "output_type": "stream",
          "name": "stdout",
          "text": [
            "Existen  210.0  posibles permutaciones sin repetición del total de  7 nombres   en grupos de  3  en  3\n",
            "Aquí las permutaciones\n",
            "('a', 'b', 'c')\n",
            "('a', 'b', 'd')\n",
            "('a', 'b', 'e')\n",
            "('a', 'b', 'f')\n",
            "('a', 'b', 'g')\n",
            "('a', 'c', 'b')\n",
            "('a', 'c', 'd')\n",
            "('a', 'c', 'e')\n",
            "('a', 'c', 'f')\n",
            "('a', 'c', 'g')\n",
            "('a', 'd', 'b')\n",
            "('a', 'd', 'c')\n",
            "('a', 'd', 'e')\n",
            "('a', 'd', 'f')\n",
            "('a', 'd', 'g')\n",
            "('a', 'e', 'b')\n",
            "('a', 'e', 'c')\n",
            "('a', 'e', 'd')\n",
            "('a', 'e', 'f')\n",
            "('a', 'e', 'g')\n",
            "('a', 'f', 'b')\n",
            "('a', 'f', 'c')\n",
            "('a', 'f', 'd')\n",
            "('a', 'f', 'e')\n",
            "('a', 'f', 'g')\n",
            "('a', 'g', 'b')\n",
            "('a', 'g', 'c')\n",
            "('a', 'g', 'd')\n",
            "('a', 'g', 'e')\n",
            "('a', 'g', 'f')\n",
            "('b', 'a', 'c')\n",
            "('b', 'a', 'd')\n",
            "('b', 'a', 'e')\n",
            "('b', 'a', 'f')\n",
            "('b', 'a', 'g')\n",
            "('b', 'c', 'a')\n",
            "('b', 'c', 'd')\n",
            "('b', 'c', 'e')\n",
            "('b', 'c', 'f')\n",
            "('b', 'c', 'g')\n",
            "('b', 'd', 'a')\n",
            "('b', 'd', 'c')\n",
            "('b', 'd', 'e')\n",
            "('b', 'd', 'f')\n",
            "('b', 'd', 'g')\n",
            "('b', 'e', 'a')\n",
            "('b', 'e', 'c')\n",
            "('b', 'e', 'd')\n",
            "('b', 'e', 'f')\n",
            "('b', 'e', 'g')\n",
            "('b', 'f', 'a')\n",
            "('b', 'f', 'c')\n",
            "('b', 'f', 'd')\n",
            "('b', 'f', 'e')\n",
            "('b', 'f', 'g')\n",
            "('b', 'g', 'a')\n",
            "('b', 'g', 'c')\n",
            "('b', 'g', 'd')\n",
            "('b', 'g', 'e')\n",
            "('b', 'g', 'f')\n",
            "('c', 'a', 'b')\n",
            "('c', 'a', 'd')\n",
            "('c', 'a', 'e')\n",
            "('c', 'a', 'f')\n",
            "('c', 'a', 'g')\n",
            "('c', 'b', 'a')\n",
            "('c', 'b', 'd')\n",
            "('c', 'b', 'e')\n",
            "('c', 'b', 'f')\n",
            "('c', 'b', 'g')\n",
            "('c', 'd', 'a')\n",
            "('c', 'd', 'b')\n",
            "('c', 'd', 'e')\n",
            "('c', 'd', 'f')\n",
            "('c', 'd', 'g')\n",
            "('c', 'e', 'a')\n",
            "('c', 'e', 'b')\n",
            "('c', 'e', 'd')\n",
            "('c', 'e', 'f')\n",
            "('c', 'e', 'g')\n",
            "('c', 'f', 'a')\n",
            "('c', 'f', 'b')\n",
            "('c', 'f', 'd')\n",
            "('c', 'f', 'e')\n",
            "('c', 'f', 'g')\n",
            "('c', 'g', 'a')\n",
            "('c', 'g', 'b')\n",
            "('c', 'g', 'd')\n",
            "('c', 'g', 'e')\n",
            "('c', 'g', 'f')\n",
            "('d', 'a', 'b')\n",
            "('d', 'a', 'c')\n",
            "('d', 'a', 'e')\n",
            "('d', 'a', 'f')\n",
            "('d', 'a', 'g')\n",
            "('d', 'b', 'a')\n",
            "('d', 'b', 'c')\n",
            "('d', 'b', 'e')\n",
            "('d', 'b', 'f')\n",
            "('d', 'b', 'g')\n",
            "('d', 'c', 'a')\n",
            "('d', 'c', 'b')\n",
            "('d', 'c', 'e')\n",
            "('d', 'c', 'f')\n",
            "('d', 'c', 'g')\n",
            "('d', 'e', 'a')\n",
            "('d', 'e', 'b')\n",
            "('d', 'e', 'c')\n",
            "('d', 'e', 'f')\n",
            "('d', 'e', 'g')\n",
            "('d', 'f', 'a')\n",
            "('d', 'f', 'b')\n",
            "('d', 'f', 'c')\n",
            "('d', 'f', 'e')\n",
            "('d', 'f', 'g')\n",
            "('d', 'g', 'a')\n",
            "('d', 'g', 'b')\n",
            "('d', 'g', 'c')\n",
            "('d', 'g', 'e')\n",
            "('d', 'g', 'f')\n",
            "('e', 'a', 'b')\n",
            "('e', 'a', 'c')\n",
            "('e', 'a', 'd')\n",
            "('e', 'a', 'f')\n",
            "('e', 'a', 'g')\n",
            "('e', 'b', 'a')\n",
            "('e', 'b', 'c')\n",
            "('e', 'b', 'd')\n",
            "('e', 'b', 'f')\n",
            "('e', 'b', 'g')\n",
            "('e', 'c', 'a')\n",
            "('e', 'c', 'b')\n",
            "('e', 'c', 'd')\n",
            "('e', 'c', 'f')\n",
            "('e', 'c', 'g')\n",
            "('e', 'd', 'a')\n",
            "('e', 'd', 'b')\n",
            "('e', 'd', 'c')\n",
            "('e', 'd', 'f')\n",
            "('e', 'd', 'g')\n",
            "('e', 'f', 'a')\n",
            "('e', 'f', 'b')\n",
            "('e', 'f', 'c')\n",
            "('e', 'f', 'd')\n",
            "('e', 'f', 'g')\n",
            "('e', 'g', 'a')\n",
            "('e', 'g', 'b')\n",
            "('e', 'g', 'c')\n",
            "('e', 'g', 'd')\n",
            "('e', 'g', 'f')\n",
            "('f', 'a', 'b')\n",
            "('f', 'a', 'c')\n",
            "('f', 'a', 'd')\n",
            "('f', 'a', 'e')\n",
            "('f', 'a', 'g')\n",
            "('f', 'b', 'a')\n",
            "('f', 'b', 'c')\n",
            "('f', 'b', 'd')\n",
            "('f', 'b', 'e')\n",
            "('f', 'b', 'g')\n",
            "('f', 'c', 'a')\n",
            "('f', 'c', 'b')\n",
            "('f', 'c', 'd')\n",
            "('f', 'c', 'e')\n",
            "('f', 'c', 'g')\n",
            "('f', 'd', 'a')\n",
            "('f', 'd', 'b')\n",
            "('f', 'd', 'c')\n",
            "('f', 'd', 'e')\n",
            "('f', 'd', 'g')\n",
            "('f', 'e', 'a')\n",
            "('f', 'e', 'b')\n",
            "('f', 'e', 'c')\n",
            "('f', 'e', 'd')\n",
            "('f', 'e', 'g')\n",
            "('f', 'g', 'a')\n",
            "('f', 'g', 'b')\n",
            "('f', 'g', 'c')\n",
            "('f', 'g', 'd')\n",
            "('f', 'g', 'e')\n",
            "('g', 'a', 'b')\n",
            "('g', 'a', 'c')\n",
            "('g', 'a', 'd')\n",
            "('g', 'a', 'e')\n",
            "('g', 'a', 'f')\n",
            "('g', 'b', 'a')\n",
            "('g', 'b', 'c')\n",
            "('g', 'b', 'd')\n",
            "('g', 'b', 'e')\n",
            "('g', 'b', 'f')\n",
            "('g', 'c', 'a')\n",
            "('g', 'c', 'b')\n",
            "('g', 'c', 'd')\n",
            "('g', 'c', 'e')\n",
            "('g', 'c', 'f')\n",
            "('g', 'd', 'a')\n",
            "('g', 'd', 'b')\n",
            "('g', 'd', 'c')\n",
            "('g', 'd', 'e')\n",
            "('g', 'd', 'f')\n",
            "('g', 'e', 'a')\n",
            "('g', 'e', 'b')\n",
            "('g', 'e', 'c')\n",
            "('g', 'e', 'd')\n",
            "('g', 'e', 'f')\n",
            "('g', 'f', 'a')\n",
            "('g', 'f', 'b')\n",
            "('g', 'f', 'c')\n",
            "('g', 'f', 'd')\n",
            "('g', 'f', 'e')\n"
          ]
        }
      ]
    }
  ]
}